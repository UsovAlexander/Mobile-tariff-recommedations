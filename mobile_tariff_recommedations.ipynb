{
  "cells": [
    {
      "cell_type": "markdown",
      "metadata": {
        "id": "_xSss9YYJa90"
      },
      "source": [
        "# Mobile tariff recommendations"
      ]
    },
    {
      "cell_type": "markdown",
      "metadata": {
        "id": "nTUrP9voJa92"
      },
      "source": [
        "You need to build a model for the classification problem that will choose the appropriate tariff."
      ]
    },
    {
      "cell_type": "markdown",
      "metadata": {
        "id": "-QB_eUzckYYr"
      },
      "source": [
        "## Import libraries"
      ]
    },
    {
      "cell_type": "code",
      "execution_count": 1,
      "metadata": {
        "colab": {
          "base_uri": "https://localhost:8080/"
        },
        "id": "FWlTg8KL7gby",
        "outputId": "2227d4f0-897d-4f32-cb68-d68a1abe6163"
      },
      "outputs": [
        {
          "output_type": "stream",
          "name": "stdout",
          "text": [
            "Looking in indexes: https://pypi.org/simple, https://us-python.pkg.dev/colab-wheels/public/simple/\n",
            "Requirement already satisfied: catboost in /usr/local/lib/python3.10/dist-packages (1.2)\n",
            "Requirement already satisfied: graphviz in /usr/local/lib/python3.10/dist-packages (from catboost) (0.20.1)\n",
            "Requirement already satisfied: matplotlib in /usr/local/lib/python3.10/dist-packages (from catboost) (3.7.1)\n",
            "Requirement already satisfied: numpy>=1.16.0 in /usr/local/lib/python3.10/dist-packages (from catboost) (1.22.4)\n",
            "Requirement already satisfied: pandas>=0.24 in /usr/local/lib/python3.10/dist-packages (from catboost) (1.5.3)\n",
            "Requirement already satisfied: scipy in /usr/local/lib/python3.10/dist-packages (from catboost) (1.10.1)\n",
            "Requirement already satisfied: plotly in /usr/local/lib/python3.10/dist-packages (from catboost) (5.13.1)\n",
            "Requirement already satisfied: six in /usr/local/lib/python3.10/dist-packages (from catboost) (1.16.0)\n",
            "Requirement already satisfied: python-dateutil>=2.8.1 in /usr/local/lib/python3.10/dist-packages (from pandas>=0.24->catboost) (2.8.2)\n",
            "Requirement already satisfied: pytz>=2020.1 in /usr/local/lib/python3.10/dist-packages (from pandas>=0.24->catboost) (2022.7.1)\n",
            "Requirement already satisfied: contourpy>=1.0.1 in /usr/local/lib/python3.10/dist-packages (from matplotlib->catboost) (1.0.7)\n",
            "Requirement already satisfied: cycler>=0.10 in /usr/local/lib/python3.10/dist-packages (from matplotlib->catboost) (0.11.0)\n",
            "Requirement already satisfied: fonttools>=4.22.0 in /usr/local/lib/python3.10/dist-packages (from matplotlib->catboost) (4.39.3)\n",
            "Requirement already satisfied: kiwisolver>=1.0.1 in /usr/local/lib/python3.10/dist-packages (from matplotlib->catboost) (1.4.4)\n",
            "Requirement already satisfied: packaging>=20.0 in /usr/local/lib/python3.10/dist-packages (from matplotlib->catboost) (23.1)\n",
            "Requirement already satisfied: pillow>=6.2.0 in /usr/local/lib/python3.10/dist-packages (from matplotlib->catboost) (8.4.0)\n",
            "Requirement already satisfied: pyparsing>=2.3.1 in /usr/local/lib/python3.10/dist-packages (from matplotlib->catboost) (3.0.9)\n",
            "Requirement already satisfied: tenacity>=6.2.0 in /usr/local/lib/python3.10/dist-packages (from plotly->catboost) (8.2.2)\n"
          ]
        }
      ],
      "source": [
        "!pip install catboost"
      ]
    },
    {
      "cell_type": "code",
      "execution_count": 2,
      "metadata": {
        "id": "OuapxqutJa93"
      },
      "outputs": [],
      "source": [
        "import pandas as pd\n",
        "import numpy as np\n",
        "import matplotlib.pyplot as plt\n",
        "import seaborn as sns\n",
        "\n",
        "from imblearn.under_sampling import RandomUnderSampler\n",
        "from imblearn.over_sampling import RandomOverSampler, SMOTE\n",
        "from imblearn.pipeline import Pipeline\n",
        "from sklearn.model_selection import train_test_split, GridSearchCV\n",
        "from sklearn.metrics import ConfusionMatrixDisplay, f1_score, roc_curve, roc_auc_score\n",
        "from sklearn.preprocessing import StandardScaler\n",
        "from sklearn.linear_model import LogisticRegression, RidgeClassifier, SGDClassifier\n",
        "from sklearn.naive_bayes import GaussianNB\n",
        "from sklearn.svm import SVC\n",
        "from sklearn.neighbors import KNeighborsClassifier\n",
        "from lightgbm import LGBMClassifier\n",
        "from catboost import CatBoostClassifier \n",
        "\n",
        "plt.style.use('dark_background')\n",
        "RANDOM_STATE = 42"
      ]
    },
    {
      "cell_type": "markdown",
      "metadata": {
        "id": "s7gygy6NlWXy"
      },
      "source": [
        "## Preprocessing data"
      ]
    },
    {
      "cell_type": "code",
      "execution_count": 3,
      "metadata": {
        "id": "T2D2eseHJa94"
      },
      "outputs": [],
      "source": [
        "df = pd.read_csv('https://code.s3.yandex.net/datasets/users_behavior.csv')"
      ]
    },
    {
      "cell_type": "code",
      "execution_count": 4,
      "metadata": {
        "colab": {
          "base_uri": "https://localhost:8080/",
          "height": 206
        },
        "id": "zgLf_YMjjGpN",
        "outputId": "d6790f89-522a-4e40-9d74-00abac24c1f8"
      },
      "outputs": [
        {
          "output_type": "execute_result",
          "data": {
            "text/plain": [
              "   calls  minutes  messages   mb_used  is_ultra\n",
              "0   40.0   311.90      83.0  19915.42         0\n",
              "1   85.0   516.75      56.0  22696.96         0\n",
              "2   77.0   467.66      86.0  21060.45         0\n",
              "3  106.0   745.53      81.0   8437.39         1\n",
              "4   66.0   418.74       1.0  14502.75         0"
            ],
            "text/html": [
              "\n",
              "  <div id=\"df-9b55bda7-06c6-427a-84d5-e6722b48a58d\">\n",
              "    <div class=\"colab-df-container\">\n",
              "      <div>\n",
              "<style scoped>\n",
              "    .dataframe tbody tr th:only-of-type {\n",
              "        vertical-align: middle;\n",
              "    }\n",
              "\n",
              "    .dataframe tbody tr th {\n",
              "        vertical-align: top;\n",
              "    }\n",
              "\n",
              "    .dataframe thead th {\n",
              "        text-align: right;\n",
              "    }\n",
              "</style>\n",
              "<table border=\"1\" class=\"dataframe\">\n",
              "  <thead>\n",
              "    <tr style=\"text-align: right;\">\n",
              "      <th></th>\n",
              "      <th>calls</th>\n",
              "      <th>minutes</th>\n",
              "      <th>messages</th>\n",
              "      <th>mb_used</th>\n",
              "      <th>is_ultra</th>\n",
              "    </tr>\n",
              "  </thead>\n",
              "  <tbody>\n",
              "    <tr>\n",
              "      <th>0</th>\n",
              "      <td>40.0</td>\n",
              "      <td>311.90</td>\n",
              "      <td>83.0</td>\n",
              "      <td>19915.42</td>\n",
              "      <td>0</td>\n",
              "    </tr>\n",
              "    <tr>\n",
              "      <th>1</th>\n",
              "      <td>85.0</td>\n",
              "      <td>516.75</td>\n",
              "      <td>56.0</td>\n",
              "      <td>22696.96</td>\n",
              "      <td>0</td>\n",
              "    </tr>\n",
              "    <tr>\n",
              "      <th>2</th>\n",
              "      <td>77.0</td>\n",
              "      <td>467.66</td>\n",
              "      <td>86.0</td>\n",
              "      <td>21060.45</td>\n",
              "      <td>0</td>\n",
              "    </tr>\n",
              "    <tr>\n",
              "      <th>3</th>\n",
              "      <td>106.0</td>\n",
              "      <td>745.53</td>\n",
              "      <td>81.0</td>\n",
              "      <td>8437.39</td>\n",
              "      <td>1</td>\n",
              "    </tr>\n",
              "    <tr>\n",
              "      <th>4</th>\n",
              "      <td>66.0</td>\n",
              "      <td>418.74</td>\n",
              "      <td>1.0</td>\n",
              "      <td>14502.75</td>\n",
              "      <td>0</td>\n",
              "    </tr>\n",
              "  </tbody>\n",
              "</table>\n",
              "</div>\n",
              "      <button class=\"colab-df-convert\" onclick=\"convertToInteractive('df-9b55bda7-06c6-427a-84d5-e6722b48a58d')\"\n",
              "              title=\"Convert this dataframe to an interactive table.\"\n",
              "              style=\"display:none;\">\n",
              "        \n",
              "  <svg xmlns=\"http://www.w3.org/2000/svg\" height=\"24px\"viewBox=\"0 0 24 24\"\n",
              "       width=\"24px\">\n",
              "    <path d=\"M0 0h24v24H0V0z\" fill=\"none\"/>\n",
              "    <path d=\"M18.56 5.44l.94 2.06.94-2.06 2.06-.94-2.06-.94-.94-2.06-.94 2.06-2.06.94zm-11 1L8.5 8.5l.94-2.06 2.06-.94-2.06-.94L8.5 2.5l-.94 2.06-2.06.94zm10 10l.94 2.06.94-2.06 2.06-.94-2.06-.94-.94-2.06-.94 2.06-2.06.94z\"/><path d=\"M17.41 7.96l-1.37-1.37c-.4-.4-.92-.59-1.43-.59-.52 0-1.04.2-1.43.59L10.3 9.45l-7.72 7.72c-.78.78-.78 2.05 0 2.83L4 21.41c.39.39.9.59 1.41.59.51 0 1.02-.2 1.41-.59l7.78-7.78 2.81-2.81c.8-.78.8-2.07 0-2.86zM5.41 20L4 18.59l7.72-7.72 1.47 1.35L5.41 20z\"/>\n",
              "  </svg>\n",
              "      </button>\n",
              "      \n",
              "  <style>\n",
              "    .colab-df-container {\n",
              "      display:flex;\n",
              "      flex-wrap:wrap;\n",
              "      gap: 12px;\n",
              "    }\n",
              "\n",
              "    .colab-df-convert {\n",
              "      background-color: #E8F0FE;\n",
              "      border: none;\n",
              "      border-radius: 50%;\n",
              "      cursor: pointer;\n",
              "      display: none;\n",
              "      fill: #1967D2;\n",
              "      height: 32px;\n",
              "      padding: 0 0 0 0;\n",
              "      width: 32px;\n",
              "    }\n",
              "\n",
              "    .colab-df-convert:hover {\n",
              "      background-color: #E2EBFA;\n",
              "      box-shadow: 0px 1px 2px rgba(60, 64, 67, 0.3), 0px 1px 3px 1px rgba(60, 64, 67, 0.15);\n",
              "      fill: #174EA6;\n",
              "    }\n",
              "\n",
              "    [theme=dark] .colab-df-convert {\n",
              "      background-color: #3B4455;\n",
              "      fill: #D2E3FC;\n",
              "    }\n",
              "\n",
              "    [theme=dark] .colab-df-convert:hover {\n",
              "      background-color: #434B5C;\n",
              "      box-shadow: 0px 1px 3px 1px rgba(0, 0, 0, 0.15);\n",
              "      filter: drop-shadow(0px 1px 2px rgba(0, 0, 0, 0.3));\n",
              "      fill: #FFFFFF;\n",
              "    }\n",
              "  </style>\n",
              "\n",
              "      <script>\n",
              "        const buttonEl =\n",
              "          document.querySelector('#df-9b55bda7-06c6-427a-84d5-e6722b48a58d button.colab-df-convert');\n",
              "        buttonEl.style.display =\n",
              "          google.colab.kernel.accessAllowed ? 'block' : 'none';\n",
              "\n",
              "        async function convertToInteractive(key) {\n",
              "          const element = document.querySelector('#df-9b55bda7-06c6-427a-84d5-e6722b48a58d');\n",
              "          const dataTable =\n",
              "            await google.colab.kernel.invokeFunction('convertToInteractive',\n",
              "                                                     [key], {});\n",
              "          if (!dataTable) return;\n",
              "\n",
              "          const docLinkHtml = 'Like what you see? Visit the ' +\n",
              "            '<a target=\"_blank\" href=https://colab.research.google.com/notebooks/data_table.ipynb>data table notebook</a>'\n",
              "            + ' to learn more about interactive tables.';\n",
              "          element.innerHTML = '';\n",
              "          dataTable['output_type'] = 'display_data';\n",
              "          await google.colab.output.renderOutput(dataTable, element);\n",
              "          const docLink = document.createElement('div');\n",
              "          docLink.innerHTML = docLinkHtml;\n",
              "          element.appendChild(docLink);\n",
              "        }\n",
              "      </script>\n",
              "    </div>\n",
              "  </div>\n",
              "  "
            ]
          },
          "metadata": {},
          "execution_count": 4
        }
      ],
      "source": [
        "df.head()"
      ]
    },
    {
      "cell_type": "code",
      "execution_count": 5,
      "metadata": {
        "colab": {
          "base_uri": "https://localhost:8080/"
        },
        "id": "lP2mkj9zjJ7b",
        "outputId": "3cc116af-05bd-48d0-9ad2-3fb40898c81b"
      },
      "outputs": [
        {
          "output_type": "stream",
          "name": "stdout",
          "text": [
            "<class 'pandas.core.frame.DataFrame'>\n",
            "RangeIndex: 3214 entries, 0 to 3213\n",
            "Data columns (total 5 columns):\n",
            " #   Column    Non-Null Count  Dtype  \n",
            "---  ------    --------------  -----  \n",
            " 0   calls     3214 non-null   float64\n",
            " 1   minutes   3214 non-null   float64\n",
            " 2   messages  3214 non-null   float64\n",
            " 3   mb_used   3214 non-null   float64\n",
            " 4   is_ultra  3214 non-null   int64  \n",
            "dtypes: float64(4), int64(1)\n",
            "memory usage: 125.7 KB\n"
          ]
        }
      ],
      "source": [
        "df.info()"
      ]
    },
    {
      "cell_type": "code",
      "execution_count": 6,
      "metadata": {
        "colab": {
          "base_uri": "https://localhost:8080/",
          "height": 300
        },
        "id": "r1DO9kmMJa94",
        "outputId": "32a69a88-8478-40ad-f48f-27d5f3882c79"
      },
      "outputs": [
        {
          "output_type": "execute_result",
          "data": {
            "text/plain": [
              "             calls      minutes     messages       mb_used     is_ultra\n",
              "count  3214.000000  3214.000000  3214.000000   3214.000000  3214.000000\n",
              "mean     63.038892   438.208787    38.281269  17207.673836     0.306472\n",
              "std      33.236368   234.569872    36.148326   7570.968246     0.461100\n",
              "min       0.000000     0.000000     0.000000      0.000000     0.000000\n",
              "25%      40.000000   274.575000     9.000000  12491.902500     0.000000\n",
              "50%      62.000000   430.600000    30.000000  16943.235000     0.000000\n",
              "75%      82.000000   571.927500    57.000000  21424.700000     1.000000\n",
              "max     244.000000  1632.060000   224.000000  49745.730000     1.000000"
            ],
            "text/html": [
              "\n",
              "  <div id=\"df-297c004d-85fc-493d-af43-471e325c819d\">\n",
              "    <div class=\"colab-df-container\">\n",
              "      <div>\n",
              "<style scoped>\n",
              "    .dataframe tbody tr th:only-of-type {\n",
              "        vertical-align: middle;\n",
              "    }\n",
              "\n",
              "    .dataframe tbody tr th {\n",
              "        vertical-align: top;\n",
              "    }\n",
              "\n",
              "    .dataframe thead th {\n",
              "        text-align: right;\n",
              "    }\n",
              "</style>\n",
              "<table border=\"1\" class=\"dataframe\">\n",
              "  <thead>\n",
              "    <tr style=\"text-align: right;\">\n",
              "      <th></th>\n",
              "      <th>calls</th>\n",
              "      <th>minutes</th>\n",
              "      <th>messages</th>\n",
              "      <th>mb_used</th>\n",
              "      <th>is_ultra</th>\n",
              "    </tr>\n",
              "  </thead>\n",
              "  <tbody>\n",
              "    <tr>\n",
              "      <th>count</th>\n",
              "      <td>3214.000000</td>\n",
              "      <td>3214.000000</td>\n",
              "      <td>3214.000000</td>\n",
              "      <td>3214.000000</td>\n",
              "      <td>3214.000000</td>\n",
              "    </tr>\n",
              "    <tr>\n",
              "      <th>mean</th>\n",
              "      <td>63.038892</td>\n",
              "      <td>438.208787</td>\n",
              "      <td>38.281269</td>\n",
              "      <td>17207.673836</td>\n",
              "      <td>0.306472</td>\n",
              "    </tr>\n",
              "    <tr>\n",
              "      <th>std</th>\n",
              "      <td>33.236368</td>\n",
              "      <td>234.569872</td>\n",
              "      <td>36.148326</td>\n",
              "      <td>7570.968246</td>\n",
              "      <td>0.461100</td>\n",
              "    </tr>\n",
              "    <tr>\n",
              "      <th>min</th>\n",
              "      <td>0.000000</td>\n",
              "      <td>0.000000</td>\n",
              "      <td>0.000000</td>\n",
              "      <td>0.000000</td>\n",
              "      <td>0.000000</td>\n",
              "    </tr>\n",
              "    <tr>\n",
              "      <th>25%</th>\n",
              "      <td>40.000000</td>\n",
              "      <td>274.575000</td>\n",
              "      <td>9.000000</td>\n",
              "      <td>12491.902500</td>\n",
              "      <td>0.000000</td>\n",
              "    </tr>\n",
              "    <tr>\n",
              "      <th>50%</th>\n",
              "      <td>62.000000</td>\n",
              "      <td>430.600000</td>\n",
              "      <td>30.000000</td>\n",
              "      <td>16943.235000</td>\n",
              "      <td>0.000000</td>\n",
              "    </tr>\n",
              "    <tr>\n",
              "      <th>75%</th>\n",
              "      <td>82.000000</td>\n",
              "      <td>571.927500</td>\n",
              "      <td>57.000000</td>\n",
              "      <td>21424.700000</td>\n",
              "      <td>1.000000</td>\n",
              "    </tr>\n",
              "    <tr>\n",
              "      <th>max</th>\n",
              "      <td>244.000000</td>\n",
              "      <td>1632.060000</td>\n",
              "      <td>224.000000</td>\n",
              "      <td>49745.730000</td>\n",
              "      <td>1.000000</td>\n",
              "    </tr>\n",
              "  </tbody>\n",
              "</table>\n",
              "</div>\n",
              "      <button class=\"colab-df-convert\" onclick=\"convertToInteractive('df-297c004d-85fc-493d-af43-471e325c819d')\"\n",
              "              title=\"Convert this dataframe to an interactive table.\"\n",
              "              style=\"display:none;\">\n",
              "        \n",
              "  <svg xmlns=\"http://www.w3.org/2000/svg\" height=\"24px\"viewBox=\"0 0 24 24\"\n",
              "       width=\"24px\">\n",
              "    <path d=\"M0 0h24v24H0V0z\" fill=\"none\"/>\n",
              "    <path d=\"M18.56 5.44l.94 2.06.94-2.06 2.06-.94-2.06-.94-.94-2.06-.94 2.06-2.06.94zm-11 1L8.5 8.5l.94-2.06 2.06-.94-2.06-.94L8.5 2.5l-.94 2.06-2.06.94zm10 10l.94 2.06.94-2.06 2.06-.94-2.06-.94-.94-2.06-.94 2.06-2.06.94z\"/><path d=\"M17.41 7.96l-1.37-1.37c-.4-.4-.92-.59-1.43-.59-.52 0-1.04.2-1.43.59L10.3 9.45l-7.72 7.72c-.78.78-.78 2.05 0 2.83L4 21.41c.39.39.9.59 1.41.59.51 0 1.02-.2 1.41-.59l7.78-7.78 2.81-2.81c.8-.78.8-2.07 0-2.86zM5.41 20L4 18.59l7.72-7.72 1.47 1.35L5.41 20z\"/>\n",
              "  </svg>\n",
              "      </button>\n",
              "      \n",
              "  <style>\n",
              "    .colab-df-container {\n",
              "      display:flex;\n",
              "      flex-wrap:wrap;\n",
              "      gap: 12px;\n",
              "    }\n",
              "\n",
              "    .colab-df-convert {\n",
              "      background-color: #E8F0FE;\n",
              "      border: none;\n",
              "      border-radius: 50%;\n",
              "      cursor: pointer;\n",
              "      display: none;\n",
              "      fill: #1967D2;\n",
              "      height: 32px;\n",
              "      padding: 0 0 0 0;\n",
              "      width: 32px;\n",
              "    }\n",
              "\n",
              "    .colab-df-convert:hover {\n",
              "      background-color: #E2EBFA;\n",
              "      box-shadow: 0px 1px 2px rgba(60, 64, 67, 0.3), 0px 1px 3px 1px rgba(60, 64, 67, 0.15);\n",
              "      fill: #174EA6;\n",
              "    }\n",
              "\n",
              "    [theme=dark] .colab-df-convert {\n",
              "      background-color: #3B4455;\n",
              "      fill: #D2E3FC;\n",
              "    }\n",
              "\n",
              "    [theme=dark] .colab-df-convert:hover {\n",
              "      background-color: #434B5C;\n",
              "      box-shadow: 0px 1px 3px 1px rgba(0, 0, 0, 0.15);\n",
              "      filter: drop-shadow(0px 1px 2px rgba(0, 0, 0, 0.3));\n",
              "      fill: #FFFFFF;\n",
              "    }\n",
              "  </style>\n",
              "\n",
              "      <script>\n",
              "        const buttonEl =\n",
              "          document.querySelector('#df-297c004d-85fc-493d-af43-471e325c819d button.colab-df-convert');\n",
              "        buttonEl.style.display =\n",
              "          google.colab.kernel.accessAllowed ? 'block' : 'none';\n",
              "\n",
              "        async function convertToInteractive(key) {\n",
              "          const element = document.querySelector('#df-297c004d-85fc-493d-af43-471e325c819d');\n",
              "          const dataTable =\n",
              "            await google.colab.kernel.invokeFunction('convertToInteractive',\n",
              "                                                     [key], {});\n",
              "          if (!dataTable) return;\n",
              "\n",
              "          const docLinkHtml = 'Like what you see? Visit the ' +\n",
              "            '<a target=\"_blank\" href=https://colab.research.google.com/notebooks/data_table.ipynb>data table notebook</a>'\n",
              "            + ' to learn more about interactive tables.';\n",
              "          element.innerHTML = '';\n",
              "          dataTable['output_type'] = 'display_data';\n",
              "          await google.colab.output.renderOutput(dataTable, element);\n",
              "          const docLink = document.createElement('div');\n",
              "          docLink.innerHTML = docLinkHtml;\n",
              "          element.appendChild(docLink);\n",
              "        }\n",
              "      </script>\n",
              "    </div>\n",
              "  </div>\n",
              "  "
            ]
          },
          "metadata": {},
          "execution_count": 6
        }
      ],
      "source": [
        "df.describe()"
      ]
    },
    {
      "cell_type": "code",
      "execution_count": 7,
      "metadata": {
        "colab": {
          "base_uri": "https://localhost:8080/"
        },
        "id": "8f9vX-ejjq2I",
        "outputId": "2d94c106-c41c-487c-fe8e-b5364c4e45db"
      },
      "outputs": [
        {
          "output_type": "execute_result",
          "data": {
            "text/plain": [
              "0"
            ]
          },
          "metadata": {},
          "execution_count": 7
        }
      ],
      "source": [
        "df.duplicated().sum()"
      ]
    },
    {
      "cell_type": "code",
      "execution_count": 8,
      "metadata": {
        "colab": {
          "base_uri": "https://localhost:8080/",
          "height": 435
        },
        "id": "l9xpo2lBm3gb",
        "outputId": "176ef901-e407-40ff-bca1-2b276ba0df75"
      },
      "outputs": [
        {
          "output_type": "display_data",
          "data": {
            "text/plain": [
              "<Figure size 640x480 with 2 Axes>"
            ],
            "image/png": "[encoded data removed]"
          },
          "metadata": {}
        }
      ],
      "source": [
        "sns.heatmap(df.corr(), annot=True);"
      ]
    },
    {
      "cell_type": "markdown",
      "metadata": {
        "id": "kCKEP41cnSDs"
      },
      "source": [
        "We see a strong correlation between \"calls\" and \"minutes\". This negatively affects the fit. Let's remove the \"minutes\" from the features."
      ]
    },
    {
      "cell_type": "code",
      "execution_count": 9,
      "metadata": {
        "colab": {
          "base_uri": "https://localhost:8080/"
        },
        "id": "_6yetxegj1Fa",
        "outputId": "7a3b8046-3513-4477-f1d7-73c2ead1d35a"
      },
      "outputs": [
        {
          "output_type": "execute_result",
          "data": {
            "text/plain": [
              "0    0.693528\n",
              "1    0.306472\n",
              "Name: is_ultra, dtype: float64"
            ]
          },
          "metadata": {},
          "execution_count": 9
        }
      ],
      "source": [
        "df.is_ultra.value_counts(normalize=True)"
      ]
    },
    {
      "cell_type": "code",
      "execution_count": 10,
      "metadata": {
        "id": "kmdosEHBJa96"
      },
      "outputs": [],
      "source": [
        "X = df.drop(['is_ultra', 'minutes'], axis=1)\n",
        "y = df['is_ultra']"
      ]
    },
    {
      "cell_type": "code",
      "execution_count": 11,
      "metadata": {
        "id": "E_eH6E_Hoog0"
      },
      "outputs": [],
      "source": [
        "def scatter_plot(X, y):\n",
        "    fig, (ax1, ax2) = plt.subplots(1, 2, figsize=(10, 3))\n",
        "\n",
        "    ax1.scatter(X['messages'], X['calls'], c=y, edgecolors='b')\n",
        "    ax1.set_xlabel('calls')\n",
        "    ax1.set_ylabel('messages')\n",
        "    ax1.set_title('Tariffs')\n",
        "    plt.grid()\n",
        "    \n",
        "    sns.histplot(y, ax=ax2)\n",
        "    ax2.set_title('Target')\n",
        "    ax2.set_ylim(0, 2500);"
      ]
    },
    {
      "cell_type": "code",
      "execution_count": 12,
      "metadata": {
        "colab": {
          "base_uri": "https://localhost:8080/",
          "height": 333
        },
        "id": "uE2J2erZpw7Q",
        "outputId": "35a1e4b7-18dd-4744-eac5-96918ac45886"
      },
      "outputs": [
        {
          "output_type": "display_data",
          "data": {
            "text/plain": [
              "<Figure size 1000x300 with 2 Axes>"
            ],
            "image/png": "[encoded data removed]"
          },
          "metadata": {}
        }
      ],
      "source": [
        "scatter_plot(X, y)"
      ]
    },
    {
      "cell_type": "markdown",
      "metadata": {
        "id": "WLLWHAOhkidM"
      },
      "source": [
        "We don't have duplicates and missing values, but we have imbalanced classes. Let's split dataset into train and test samples."
      ]
    },
    {
      "cell_type": "code",
      "execution_count": 13,
      "metadata": {
        "id": "R5eABy4AJa96"
      },
      "outputs": [],
      "source": [
        "X_train, X_test, y_train, y_test = train_test_split(X, y,\n",
        "                                                    test_size = 0.2,\n",
        "                                                    shuffle=True,\n",
        "                                                    stratify=y,\n",
        "                                                    random_state=RANDOM_STATE)"
      ]
    },
    {
      "cell_type": "code",
      "execution_count": 14,
      "metadata": {
        "colab": {
          "base_uri": "https://localhost:8080/"
        },
        "id": "IW9-nISyJa97",
        "outputId": "5c329ff8-ce5d-4656-fb5b-7434e1b740a1"
      },
      "outputs": [
        {
          "output_type": "execute_result",
          "data": {
            "text/plain": [
              "((2571, 3), (2571,), (643, 3), (643,))"
            ]
          },
          "metadata": {},
          "execution_count": 14
        }
      ],
      "source": [
        "X_train.shape, y_train.shape, X_test.shape, y_test.shape"
      ]
    },
    {
      "cell_type": "markdown",
      "metadata": {
        "id": "bsJqA4GHJa97"
      },
      "source": [
        "## Building models"
      ]
    },
    {
      "cell_type": "code",
      "execution_count": 15,
      "metadata": {
        "id": "hgeDvluWJa97"
      },
      "outputs": [],
      "source": [
        "def clf_models(X_train, y_train, resampling=None, \n",
        "               class_weight: str = None, class_weight_catboost: str = None):\n",
        "    models = []\n",
        "    results = pd.DataFrame(columns=['mean_fit_time', 'params', 'mean_test_score'])\n",
        "\n",
        "    # LogisticRegression\n",
        "    X_train_lr = X_train.copy()\n",
        "    y_train_lr = y_train.copy()\n",
        "\n",
        "    lr = Pipeline(\n",
        "        [('resamling', resampling),\n",
        "         ('scaler', StandardScaler()),\n",
        "         ('lr', LogisticRegression(class_weight = class_weight, random_state=RANDOM_STATE))\n",
        "             ]\n",
        "             )\n",
        "    params_lr = {'lr__C': np.logspace(-5, 5, 11)}\n",
        "    grid_lr = GridSearchCV(lr, param_grid=params_lr, cv=5, scoring='f1', n_jobs=-1)\n",
        "    grid_lr.fit(X_train_lr, y_train_lr)\n",
        "    best_result_lr = pd.DataFrame(\n",
        "        grid_lr.cv_results_).sort_values('rank_test_score').head(1)\n",
        "    best_result_lr = best_result_lr[[\n",
        "        'mean_fit_time', 'params', 'mean_test_score']]\n",
        "    models.append(grid_lr.best_estimator_)\n",
        "\n",
        "    # SGDClassifier\n",
        "    X_train_sgd = X_train.copy()\n",
        "    y_train_sgd = y_train.copy()\n",
        "\n",
        "    sgd = Pipeline(\n",
        "        [('resamling', resampling),\n",
        "            ('scaler', StandardScaler()),\n",
        "          ('sgd', SGDClassifier(class_weight = class_weight, random_state=RANDOM_STATE))\n",
        "             ]\n",
        "             )\n",
        "    params_sgd = {'sgd__alpha': range(1, 10),\n",
        "                  'sgd__penalty': ['l2', 'l1', 'elasticnet', None]}\n",
        "    grid_sgd = GridSearchCV(sgd, param_grid=params_sgd, cv=5, scoring='f1', n_jobs=-1)\n",
        "    grid_sgd.fit(X_train_sgd, y_train_sgd)\n",
        "    best_result_sgd = pd.DataFrame(\n",
        "        grid_sgd.cv_results_).sort_values('rank_test_score').head(1)\n",
        "    best_result_sgd = best_result_sgd[[\n",
        "        'mean_fit_time', 'params', 'mean_test_score']]\n",
        "    models.append(grid_sgd.best_estimator_)\n",
        "\n",
        "    # RidgeClassifier\n",
        "    X_train_rd = X_train.copy()\n",
        "    y_train_rd = y_train.copy()\n",
        "\n",
        "    rd = Pipeline(\n",
        "        [('resamling', resampling),\n",
        "            ('scaler', StandardScaler()),\n",
        "          ('rd', RidgeClassifier(class_weight = class_weight, random_state=RANDOM_STATE))\n",
        "             ]\n",
        "             )\n",
        "    params_rd = {'rd__alpha': range(1, 10)}\n",
        "    grid_rd = GridSearchCV(rd, param_grid=params_rd, cv=5, scoring='f1', n_jobs=-1)\n",
        "    grid_rd.fit(X_train_rd, y_train_rd)\n",
        "    best_result_rd = pd.DataFrame(\n",
        "        grid_rd.cv_results_).sort_values('rank_test_score').head(1)\n",
        "    best_result_rd = best_result_rd[[\n",
        "        'mean_fit_time', 'params', 'mean_test_score']]\n",
        "    models.append(grid_rd.best_estimator_)\n",
        "\n",
        "    # GaussianNB\n",
        "    X_train_nb = X_train.copy()\n",
        "    y_train_nb = y_train.copy()\n",
        "\n",
        "    nb = Pipeline(\n",
        "        [('resamling', resampling),\n",
        "            ('scaler', StandardScaler()),\n",
        "          ('nb', GaussianNB())\n",
        "             ]\n",
        "             )\n",
        "    params_nb = {'nb__var_smoothing': np.logspace(0,-9, num=100)}\n",
        "    grid_nb = GridSearchCV(nb, param_grid=params_nb, cv=5, scoring='f1', n_jobs=-1)\n",
        "    grid_nb.fit(X_train_nb, y_train_nb)\n",
        "    best_result_nb = pd.DataFrame(\n",
        "        grid_rd.cv_results_).sort_values('rank_test_score').head(1)\n",
        "    best_result_nb = best_result_nb[[\n",
        "        'mean_fit_time', 'params', 'mean_test_score']]\n",
        "    models.append(grid_rd.best_estimator_)\n",
        "\n",
        "    # SVC\n",
        "    X_train_svc = X_train.copy()\n",
        "    y_train_svc = y_train.copy()\n",
        "\n",
        "    svc = Pipeline(\n",
        "        [('resamling', resampling),\n",
        "            ('scaler', StandardScaler()),\n",
        "          ('svc', SVC(class_weight = class_weight, random_state=RANDOM_STATE))\n",
        "             ]\n",
        "             )\n",
        "    params_svc = {'svc__C': [0.1, 1, 10, 100], \n",
        "                  'svc__gamma': [ 1, 0.1, 0.01, 0.001],\n",
        "                  'svc__kernel': ['rbf', 'poly', 'sigmoid']}\n",
        "    grid_svc = GridSearchCV(svc, param_grid=params_svc, cv=5, scoring='f1', n_jobs=-1)\n",
        "    grid_svc.fit(X_train_svc, y_train_svc)\n",
        "    best_result_svc = pd.DataFrame(\n",
        "        grid_svc.cv_results_).sort_values('rank_test_score').head(1)\n",
        "    best_result_svc = best_result_svc[[\n",
        "        'mean_fit_time', 'params', 'mean_test_score']]\n",
        "    models.append(grid_svc.best_estimator_)\n",
        "\n",
        "    # KNeighborsClassifier\n",
        "    X_train_knn = X_train.copy()\n",
        "    y_train_knn = y_train.copy()\n",
        "\n",
        "    knn = Pipeline(\n",
        "        [('resamling', resampling),\n",
        "            ('scaler', StandardScaler()),\n",
        "          ('knn', KNeighborsClassifier())\n",
        "             ]\n",
        "             )\n",
        "    params_knn = {'knn__n_neighbors': [100, 200, 300], \n",
        "                  'knn__weights': ['uniform', 'distance'],\n",
        "                  'knn__algorithm': ['auto', 'ball_tree', 'kd_tree', 'brute']}\n",
        "    grid_knn = GridSearchCV(knn, param_grid=params_knn, cv=5, scoring='f1', n_jobs=-1)\n",
        "    grid_knn.fit(X_train_knn, y_train_knn)\n",
        "    best_result_knn = pd.DataFrame(\n",
        "        grid_knn.cv_results_).sort_values('rank_test_score').head(1)\n",
        "    best_result_knn = best_result_knn[[\n",
        "        'mean_fit_time', 'params', 'mean_test_score']]\n",
        "    models.append(grid_knn.best_estimator_)\n",
        "\n",
        "    # CatBoostClassifier\n",
        "    X_train_cb = X_train.copy()\n",
        "    y_train_cb = y_train.copy()\n",
        "\n",
        "    pipline_cb = Pipeline(\n",
        "        [('resamling', resampling),\n",
        "         ('scaler', StandardScaler()),\n",
        "         ('cb', CatBoostClassifier(auto_class_weights=class_weight_catboost, random_state=RANDOM_STATE, verbose=False))])\n",
        "\n",
        "    param_cb = {'cb__max_depth': [3, 5, 7],\n",
        "                'cb__n_estimators': [1000, 2000, 3000, 4000, 5000]}\n",
        "    grid_cb = GridSearchCV(pipline_cb, param_grid=param_cb,\n",
        "                           scoring='f1', cv=5, n_jobs=-1)\n",
        "    grid_cb.fit(X_train_cb, y_train_cb)\n",
        "    best_result_cb = pd.DataFrame(\n",
        "        grid_cb.cv_results_).sort_values('rank_test_score').head(1)\n",
        "    best_result_cb = best_result_cb[[\n",
        "        'mean_fit_time', 'params', 'mean_test_score']]\n",
        "    models.append(grid_cb.best_estimator_)\n",
        "\n",
        "    #result\n",
        "    result = pd.concat([best_result_lr, best_result_sgd, \n",
        "                        best_result_rd, best_result_nb, \n",
        "                        best_result_svc, best_result_knn, \n",
        "                        best_result_cb])\n",
        "    result.index = ['LogisticRegression', 'SGDClassifier', \n",
        "                    'RidgeClassifier', 'GaussianNB',\n",
        "                    'SVC', 'KNeighborsClassifier', \n",
        "                    'CatBoostClassifier']\n",
        "    display(result)\n",
        "    return models"
      ]
    },
    {
      "cell_type": "markdown",
      "metadata": {
        "id": "LcFDsc8yuM2q"
      },
      "source": [
        "## Training models"
      ]
    },
    {
      "cell_type": "markdown",
      "metadata": {
        "id": "d5Y-BTv7v3As"
      },
      "source": [
        "Let's train models with different methods of dealing imbalance."
      ]
    },
    {
      "cell_type": "markdown",
      "metadata": {
        "id": "laXg9R0tm5i4"
      },
      "source": [
        "### Default sample"
      ]
    },
    {
      "cell_type": "code",
      "execution_count": 16,
      "metadata": {
        "colab": {
          "base_uri": "https://localhost:8080/",
          "height": 269
        },
        "id": "NrVUraWeJa-C",
        "outputId": "ed791846-9ef1-4622-c8f6-45f27dd01dfc"
      },
      "outputs": [
        {
          "output_type": "display_data",
          "data": {
            "text/plain": [
              "                      mean_fit_time  \\\n",
              "LogisticRegression         0.013989   \n",
              "SGDClassifier              0.006258   \n",
              "RidgeClassifier            0.007725   \n",
              "GaussianNB                 0.007725   \n",
              "SVC                        0.219611   \n",
              "KNeighborsClassifier       0.004738   \n",
              "CatBoostClassifier         3.906037   \n",
              "\n",
              "                                                                 params  \\\n",
              "LogisticRegression                                       {'lr__C': 1.0}   \n",
              "SGDClassifier                   {'sgd__alpha': 1, 'sgd__penalty': None}   \n",
              "RidgeClassifier                                        {'rd__alpha': 1}   \n",
              "GaussianNB                                             {'rd__alpha': 1}   \n",
              "SVC                   {'svc__C': 1, 'svc__gamma': 1, 'svc__kernel': ...   \n",
              "KNeighborsClassifier  {'knn__algorithm': 'auto', 'knn__n_neighbors':...   \n",
              "CatBoostClassifier       {'cb__max_depth': 5, 'cb__n_estimators': 2000}   \n",
              "\n",
              "                      mean_test_score  \n",
              "LogisticRegression           0.342353  \n",
              "SGDClassifier                0.187188  \n",
              "RidgeClassifier              0.307925  \n",
              "GaussianNB                   0.307925  \n",
              "SVC                          0.608660  \n",
              "KNeighborsClassifier         0.470288  \n",
              "CatBoostClassifier           0.639782  "
            ],
            "text/html": [
              "\n",
              "  <div id=\"df-661a202f-1f7b-4af8-8283-07b0bc99cb92\">\n",
              "    <div class=\"colab-df-container\">\n",
              "      <div>\n",
              "<style scoped>\n",
              "    .dataframe tbody tr th:only-of-type {\n",
              "        vertical-align: middle;\n",
              "    }\n",
              "\n",
              "    .dataframe tbody tr th {\n",
              "        vertical-align: top;\n",
              "    }\n",
              "\n",
              "    .dataframe thead th {\n",
              "        text-align: right;\n",
              "    }\n",
              "</style>\n",
              "<table border=\"1\" class=\"dataframe\">\n",
              "  <thead>\n",
              "    <tr style=\"text-align: right;\">\n",
              "      <th></th>\n",
              "      <th>mean_fit_time</th>\n",
              "      <th>params</th>\n",
              "      <th>mean_test_score</th>\n",
              "    </tr>\n",
              "  </thead>\n",
              "  <tbody>\n",
              "    <tr>\n",
              "      <th>LogisticRegression</th>\n",
              "      <td>0.013989</td>\n",
              "      <td>{'lr__C': 1.0}</td>\n",
              "      <td>0.342353</td>\n",
              "    </tr>\n",
              "    <tr>\n",
              "      <th>SGDClassifier</th>\n",
              "      <td>0.006258</td>\n",
              "      <td>{'sgd__alpha': 1, 'sgd__penalty': None}</td>\n",
              "      <td>0.187188</td>\n",
              "    </tr>\n",
              "    <tr>\n",
              "      <th>RidgeClassifier</th>\n",
              "      <td>0.007725</td>\n",
              "      <td>{'rd__alpha': 1}</td>\n",
              "      <td>0.307925</td>\n",
              "    </tr>\n",
              "    <tr>\n",
              "      <th>GaussianNB</th>\n",
              "      <td>0.007725</td>\n",
              "      <td>{'rd__alpha': 1}</td>\n",
              "      <td>0.307925</td>\n",
              "    </tr>\n",
              "    <tr>\n",
              "      <th>SVC</th>\n",
              "      <td>0.219611</td>\n",
              "      <td>{'svc__C': 1, 'svc__gamma': 1, 'svc__kernel': ...</td>\n",
              "      <td>0.608660</td>\n",
              "    </tr>\n",
              "    <tr>\n",
              "      <th>KNeighborsClassifier</th>\n",
              "      <td>0.004738</td>\n",
              "      <td>{'knn__algorithm': 'auto', 'knn__n_neighbors':...</td>\n",
              "      <td>0.470288</td>\n",
              "    </tr>\n",
              "    <tr>\n",
              "      <th>CatBoostClassifier</th>\n",
              "      <td>3.906037</td>\n",
              "      <td>{'cb__max_depth': 5, 'cb__n_estimators': 2000}</td>\n",
              "      <td>0.639782</td>\n",
              "    </tr>\n",
              "  </tbody>\n",
              "</table>\n",
              "</div>\n",
              "      <button class=\"colab-df-convert\" onclick=\"convertToInteractive('df-661a202f-1f7b-4af8-8283-07b0bc99cb92')\"\n",
              "              title=\"Convert this dataframe to an interactive table.\"\n",
              "              style=\"display:none;\">\n",
              "        \n",
              "  <svg xmlns=\"http://www.w3.org/2000/svg\" height=\"24px\"viewBox=\"0 0 24 24\"\n",
              "       width=\"24px\">\n",
              "    <path d=\"M0 0h24v24H0V0z\" fill=\"none\"/>\n",
              "    <path d=\"M18.56 5.44l.94 2.06.94-2.06 2.06-.94-2.06-.94-.94-2.06-.94 2.06-2.06.94zm-11 1L8.5 8.5l.94-2.06 2.06-.94-2.06-.94L8.5 2.5l-.94 2.06-2.06.94zm10 10l.94 2.06.94-2.06 2.06-.94-2.06-.94-.94-2.06-.94 2.06-2.06.94z\"/><path d=\"M17.41 7.96l-1.37-1.37c-.4-.4-.92-.59-1.43-.59-.52 0-1.04.2-1.43.59L10.3 9.45l-7.72 7.72c-.78.78-.78 2.05 0 2.83L4 21.41c.39.39.9.59 1.41.59.51 0 1.02-.2 1.41-.59l7.78-7.78 2.81-2.81c.8-.78.8-2.07 0-2.86zM5.41 20L4 18.59l7.72-7.72 1.47 1.35L5.41 20z\"/>\n",
              "  </svg>\n",
              "      </button>\n",
              "      \n",
              "  <style>\n",
              "    .colab-df-container {\n",
              "      display:flex;\n",
              "      flex-wrap:wrap;\n",
              "      gap: 12px;\n",
              "    }\n",
              "\n",
              "    .colab-df-convert {\n",
              "      background-color: #E8F0FE;\n",
              "      border: none;\n",
              "      border-radius: 50%;\n",
              "      cursor: pointer;\n",
              "      display: none;\n",
              "      fill: #1967D2;\n",
              "      height: 32px;\n",
              "      padding: 0 0 0 0;\n",
              "      width: 32px;\n",
              "    }\n",
              "\n",
              "    .colab-df-convert:hover {\n",
              "      background-color: #E2EBFA;\n",
              "      box-shadow: 0px 1px 2px rgba(60, 64, 67, 0.3), 0px 1px 3px 1px rgba(60, 64, 67, 0.15);\n",
              "      fill: #174EA6;\n",
              "    }\n",
              "\n",
              "    [theme=dark] .colab-df-convert {\n",
              "      background-color: #3B4455;\n",
              "      fill: #D2E3FC;\n",
              "    }\n",
              "\n",
              "    [theme=dark] .colab-df-convert:hover {\n",
              "      background-color: #434B5C;\n",
              "      box-shadow: 0px 1px 3px 1px rgba(0, 0, 0, 0.15);\n",
              "      filter: drop-shadow(0px 1px 2px rgba(0, 0, 0, 0.3));\n",
              "      fill: #FFFFFF;\n",
              "    }\n",
              "  </style>\n",
              "\n",
              "      <script>\n",
              "        const buttonEl =\n",
              "          document.querySelector('#df-661a202f-1f7b-4af8-8283-07b0bc99cb92 button.colab-df-convert');\n",
              "        buttonEl.style.display =\n",
              "          google.colab.kernel.accessAllowed ? 'block' : 'none';\n",
              "\n",
              "        async function convertToInteractive(key) {\n",
              "          const element = document.querySelector('#df-661a202f-1f7b-4af8-8283-07b0bc99cb92');\n",
              "          const dataTable =\n",
              "            await google.colab.kernel.invokeFunction('convertToInteractive',\n",
              "                                                     [key], {});\n",
              "          if (!dataTable) return;\n",
              "\n",
              "          const docLinkHtml = 'Like what you see? Visit the ' +\n",
              "            '<a target=\"_blank\" href=https://colab.research.google.com/notebooks/data_table.ipynb>data table notebook</a>'\n",
              "            + ' to learn more about interactive tables.';\n",
              "          element.innerHTML = '';\n",
              "          dataTable['output_type'] = 'display_data';\n",
              "          await google.colab.output.renderOutput(dataTable, element);\n",
              "          const docLink = document.createElement('div');\n",
              "          docLink.innerHTML = docLinkHtml;\n",
              "          element.appendChild(docLink);\n",
              "        }\n",
              "      </script>\n",
              "    </div>\n",
              "  </div>\n",
              "  "
            ]
          },
          "metadata": {}
        }
      ],
      "source": [
        "general_models = clf_models(X_train, y_train)"
      ]
    },
    {
      "cell_type": "markdown",
      "metadata": {
        "id": "yWK4sz7BnOkJ"
      },
      "source": [
        "### Class weight"
      ]
    },
    {
      "cell_type": "code",
      "execution_count": 17,
      "metadata": {
        "colab": {
          "base_uri": "https://localhost:8080/",
          "height": 269
        },
        "id": "mNwe4SSquJzP",
        "outputId": "b6b10b3a-09a4-43fb-8e8f-f47ca2529bc7"
      },
      "outputs": [
        {
          "output_type": "display_data",
          "data": {
            "text/plain": [
              "                      mean_fit_time  \\\n",
              "LogisticRegression         0.008883   \n",
              "SGDClassifier              0.006176   \n",
              "RidgeClassifier            0.007461   \n",
              "GaussianNB                 0.007461   \n",
              "SVC                        0.154831   \n",
              "KNeighborsClassifier       0.004995   \n",
              "CatBoostClassifier         4.083343   \n",
              "\n",
              "                                                                 params  \\\n",
              "LogisticRegression                                     {'lr__C': 1e-05}   \n",
              "SGDClassifier                   {'sgd__alpha': 1, 'sgd__penalty': None}   \n",
              "RidgeClassifier                                        {'rd__alpha': 1}   \n",
              "GaussianNB                                             {'rd__alpha': 1}   \n",
              "SVC                   {'svc__C': 1, 'svc__gamma': 1, 'svc__kernel': ...   \n",
              "KNeighborsClassifier  {'knn__algorithm': 'auto', 'knn__n_neighbors':...   \n",
              "CatBoostClassifier       {'cb__max_depth': 5, 'cb__n_estimators': 2000}   \n",
              "\n",
              "                      mean_test_score  \n",
              "LogisticRegression           0.499056  \n",
              "SGDClassifier                0.482053  \n",
              "RidgeClassifier              0.493902  \n",
              "GaussianNB                   0.493902  \n",
              "SVC                          0.658899  \n",
              "KNeighborsClassifier         0.470288  \n",
              "CatBoostClassifier           0.653734  "
            ],
            "text/html": [
              "\n",
              "  <div id=\"df-5257f6bd-afd3-498a-af85-242591523d87\">\n",
              "    <div class=\"colab-df-container\">\n",
              "      <div>\n",
              "<style scoped>\n",
              "    .dataframe tbody tr th:only-of-type {\n",
              "        vertical-align: middle;\n",
              "    }\n",
              "\n",
              "    .dataframe tbody tr th {\n",
              "        vertical-align: top;\n",
              "    }\n",
              "\n",
              "    .dataframe thead th {\n",
              "        text-align: right;\n",
              "    }\n",
              "</style>\n",
              "<table border=\"1\" class=\"dataframe\">\n",
              "  <thead>\n",
              "    <tr style=\"text-align: right;\">\n",
              "      <th></th>\n",
              "      <th>mean_fit_time</th>\n",
              "      <th>params</th>\n",
              "      <th>mean_test_score</th>\n",
              "    </tr>\n",
              "  </thead>\n",
              "  <tbody>\n",
              "    <tr>\n",
              "      <th>LogisticRegression</th>\n",
              "      <td>0.008883</td>\n",
              "      <td>{'lr__C': 1e-05}</td>\n",
              "      <td>0.499056</td>\n",
              "    </tr>\n",
              "    <tr>\n",
              "      <th>SGDClassifier</th>\n",
              "      <td>0.006176</td>\n",
              "      <td>{'sgd__alpha': 1, 'sgd__penalty': None}</td>\n",
              "      <td>0.482053</td>\n",
              "    </tr>\n",
              "    <tr>\n",
              "      <th>RidgeClassifier</th>\n",
              "      <td>0.007461</td>\n",
              "      <td>{'rd__alpha': 1}</td>\n",
              "      <td>0.493902</td>\n",
              "    </tr>\n",
              "    <tr>\n",
              "      <th>GaussianNB</th>\n",
              "      <td>0.007461</td>\n",
              "      <td>{'rd__alpha': 1}</td>\n",
              "      <td>0.493902</td>\n",
              "    </tr>\n",
              "    <tr>\n",
              "      <th>SVC</th>\n",
              "      <td>0.154831</td>\n",
              "      <td>{'svc__C': 1, 'svc__gamma': 1, 'svc__kernel': ...</td>\n",
              "      <td>0.658899</td>\n",
              "    </tr>\n",
              "    <tr>\n",
              "      <th>KNeighborsClassifier</th>\n",
              "      <td>0.004995</td>\n",
              "      <td>{'knn__algorithm': 'auto', 'knn__n_neighbors':...</td>\n",
              "      <td>0.470288</td>\n",
              "    </tr>\n",
              "    <tr>\n",
              "      <th>CatBoostClassifier</th>\n",
              "      <td>4.083343</td>\n",
              "      <td>{'cb__max_depth': 5, 'cb__n_estimators': 2000}</td>\n",
              "      <td>0.653734</td>\n",
              "    </tr>\n",
              "  </tbody>\n",
              "</table>\n",
              "</div>\n",
              "      <button class=\"colab-df-convert\" onclick=\"convertToInteractive('df-5257f6bd-afd3-498a-af85-242591523d87')\"\n",
              "              title=\"Convert this dataframe to an interactive table.\"\n",
              "              style=\"display:none;\">\n",
              "        \n",
              "  <svg xmlns=\"http://www.w3.org/2000/svg\" height=\"24px\"viewBox=\"0 0 24 24\"\n",
              "       width=\"24px\">\n",
              "    <path d=\"M0 0h24v24H0V0z\" fill=\"none\"/>\n",
              "    <path d=\"M18.56 5.44l.94 2.06.94-2.06 2.06-.94-2.06-.94-.94-2.06-.94 2.06-2.06.94zm-11 1L8.5 8.5l.94-2.06 2.06-.94-2.06-.94L8.5 2.5l-.94 2.06-2.06.94zm10 10l.94 2.06.94-2.06 2.06-.94-2.06-.94-.94-2.06-.94 2.06-2.06.94z\"/><path d=\"M17.41 7.96l-1.37-1.37c-.4-.4-.92-.59-1.43-.59-.52 0-1.04.2-1.43.59L10.3 9.45l-7.72 7.72c-.78.78-.78 2.05 0 2.83L4 21.41c.39.39.9.59 1.41.59.51 0 1.02-.2 1.41-.59l7.78-7.78 2.81-2.81c.8-.78.8-2.07 0-2.86zM5.41 20L4 18.59l7.72-7.72 1.47 1.35L5.41 20z\"/>\n",
              "  </svg>\n",
              "      </button>\n",
              "      \n",
              "  <style>\n",
              "    .colab-df-container {\n",
              "      display:flex;\n",
              "      flex-wrap:wrap;\n",
              "      gap: 12px;\n",
              "    }\n",
              "\n",
              "    .colab-df-convert {\n",
              "      background-color: #E8F0FE;\n",
              "      border: none;\n",
              "      border-radius: 50%;\n",
              "      cursor: pointer;\n",
              "      display: none;\n",
              "      fill: #1967D2;\n",
              "      height: 32px;\n",
              "      padding: 0 0 0 0;\n",
              "      width: 32px;\n",
              "    }\n",
              "\n",
              "    .colab-df-convert:hover {\n",
              "      background-color: #E2EBFA;\n",
              "      box-shadow: 0px 1px 2px rgba(60, 64, 67, 0.3), 0px 1px 3px 1px rgba(60, 64, 67, 0.15);\n",
              "      fill: #174EA6;\n",
              "    }\n",
              "\n",
              "    [theme=dark] .colab-df-convert {\n",
              "      background-color: #3B4455;\n",
              "      fill: #D2E3FC;\n",
              "    }\n",
              "\n",
              "    [theme=dark] .colab-df-convert:hover {\n",
              "      background-color: #434B5C;\n",
              "      box-shadow: 0px 1px 3px 1px rgba(0, 0, 0, 0.15);\n",
              "      filter: drop-shadow(0px 1px 2px rgba(0, 0, 0, 0.3));\n",
              "      fill: #FFFFFF;\n",
              "    }\n",
              "  </style>\n",
              "\n",
              "      <script>\n",
              "        const buttonEl =\n",
              "          document.querySelector('#df-5257f6bd-afd3-498a-af85-242591523d87 button.colab-df-convert');\n",
              "        buttonEl.style.display =\n",
              "          google.colab.kernel.accessAllowed ? 'block' : 'none';\n",
              "\n",
              "        async function convertToInteractive(key) {\n",
              "          const element = document.querySelector('#df-5257f6bd-afd3-498a-af85-242591523d87');\n",
              "          const dataTable =\n",
              "            await google.colab.kernel.invokeFunction('convertToInteractive',\n",
              "                                                     [key], {});\n",
              "          if (!dataTable) return;\n",
              "\n",
              "          const docLinkHtml = 'Like what you see? Visit the ' +\n",
              "            '<a target=\"_blank\" href=https://colab.research.google.com/notebooks/data_table.ipynb>data table notebook</a>'\n",
              "            + ' to learn more about interactive tables.';\n",
              "          element.innerHTML = '';\n",
              "          dataTable['output_type'] = 'display_data';\n",
              "          await google.colab.output.renderOutput(dataTable, element);\n",
              "          const docLink = document.createElement('div');\n",
              "          docLink.innerHTML = docLinkHtml;\n",
              "          element.appendChild(docLink);\n",
              "        }\n",
              "      </script>\n",
              "    </div>\n",
              "  </div>\n",
              "  "
            ]
          },
          "metadata": {}
        }
      ],
      "source": [
        "models_class_weight = clf_models(X_train, y_train, class_weight='balanced', class_weight_catboost='Balanced')"
      ]
    },
    {
      "cell_type": "markdown",
      "metadata": {
        "id": "fqI80KRdnUCj"
      },
      "source": [
        "### Undersampling"
      ]
    },
    {
      "cell_type": "code",
      "execution_count": 18,
      "metadata": {
        "id": "7r0MJdndo14x"
      },
      "outputs": [],
      "source": [
        "rus = RandomUnderSampler(random_state=RANDOM_STATE)"
      ]
    },
    {
      "cell_type": "code",
      "execution_count": 19,
      "metadata": {
        "colab": {
          "base_uri": "https://localhost:8080/",
          "height": 269
        },
        "id": "UDdx2uICpYGI",
        "outputId": "fdde2191-9bb5-4160-b66c-88223d0e0756"
      },
      "outputs": [
        {
          "output_type": "display_data",
          "data": {
            "text/plain": [
              "                      mean_fit_time  \\\n",
              "LogisticRegression         0.011590   \n",
              "SGDClassifier              0.010487   \n",
              "RidgeClassifier            0.010907   \n",
              "GaussianNB                 0.010907   \n",
              "SVC                        0.060044   \n",
              "KNeighborsClassifier       0.008078   \n",
              "CatBoostClassifier         1.577846   \n",
              "\n",
              "                                                                 params  \\\n",
              "LogisticRegression                                     {'lr__C': 1e-05}   \n",
              "SGDClassifier                   {'sgd__alpha': 1, 'sgd__penalty': None}   \n",
              "RidgeClassifier                                        {'rd__alpha': 1}   \n",
              "GaussianNB                                             {'rd__alpha': 1}   \n",
              "SVC                   {'svc__C': 1, 'svc__gamma': 1, 'svc__kernel': ...   \n",
              "KNeighborsClassifier  {'knn__algorithm': 'auto', 'knn__n_neighbors':...   \n",
              "CatBoostClassifier       {'cb__max_depth': 5, 'cb__n_estimators': 1000}   \n",
              "\n",
              "                      mean_test_score  \n",
              "LogisticRegression           0.504196  \n",
              "SGDClassifier                0.485234  \n",
              "RidgeClassifier              0.493444  \n",
              "GaussianNB                   0.493444  \n",
              "SVC                          0.657145  \n",
              "KNeighborsClassifier         0.618948  \n",
              "CatBoostClassifier           0.642863  "
            ],
            "text/html": [
              "\n",
              "  <div id=\"df-0eb13829-6599-41dd-8c18-8e988839853b\">\n",
              "    <div class=\"colab-df-container\">\n",
              "      <div>\n",
              "<style scoped>\n",
              "    .dataframe tbody tr th:only-of-type {\n",
              "        vertical-align: middle;\n",
              "    }\n",
              "\n",
              "    .dataframe tbody tr th {\n",
              "        vertical-align: top;\n",
              "    }\n",
              "\n",
              "    .dataframe thead th {\n",
              "        text-align: right;\n",
              "    }\n",
              "</style>\n",
              "<table border=\"1\" class=\"dataframe\">\n",
              "  <thead>\n",
              "    <tr style=\"text-align: right;\">\n",
              "      <th></th>\n",
              "      <th>mean_fit_time</th>\n",
              "      <th>params</th>\n",
              "      <th>mean_test_score</th>\n",
              "    </tr>\n",
              "  </thead>\n",
              "  <tbody>\n",
              "    <tr>\n",
              "      <th>LogisticRegression</th>\n",
              "      <td>0.011590</td>\n",
              "      <td>{'lr__C': 1e-05}</td>\n",
              "      <td>0.504196</td>\n",
              "    </tr>\n",
              "    <tr>\n",
              "      <th>SGDClassifier</th>\n",
              "      <td>0.010487</td>\n",
              "      <td>{'sgd__alpha': 1, 'sgd__penalty': None}</td>\n",
              "      <td>0.485234</td>\n",
              "    </tr>\n",
              "    <tr>\n",
              "      <th>RidgeClassifier</th>\n",
              "      <td>0.010907</td>\n",
              "      <td>{'rd__alpha': 1}</td>\n",
              "      <td>0.493444</td>\n",
              "    </tr>\n",
              "    <tr>\n",
              "      <th>GaussianNB</th>\n",
              "      <td>0.010907</td>\n",
              "      <td>{'rd__alpha': 1}</td>\n",
              "      <td>0.493444</td>\n",
              "    </tr>\n",
              "    <tr>\n",
              "      <th>SVC</th>\n",
              "      <td>0.060044</td>\n",
              "      <td>{'svc__C': 1, 'svc__gamma': 1, 'svc__kernel': ...</td>\n",
              "      <td>0.657145</td>\n",
              "    </tr>\n",
              "    <tr>\n",
              "      <th>KNeighborsClassifier</th>\n",
              "      <td>0.008078</td>\n",
              "      <td>{'knn__algorithm': 'auto', 'knn__n_neighbors':...</td>\n",
              "      <td>0.618948</td>\n",
              "    </tr>\n",
              "    <tr>\n",
              "      <th>CatBoostClassifier</th>\n",
              "      <td>1.577846</td>\n",
              "      <td>{'cb__max_depth': 5, 'cb__n_estimators': 1000}</td>\n",
              "      <td>0.642863</td>\n",
              "    </tr>\n",
              "  </tbody>\n",
              "</table>\n",
              "</div>\n",
              "      <button class=\"colab-df-convert\" onclick=\"convertToInteractive('df-0eb13829-6599-41dd-8c18-8e988839853b')\"\n",
              "              title=\"Convert this dataframe to an interactive table.\"\n",
              "              style=\"display:none;\">\n",
              "        \n",
              "  <svg xmlns=\"http://www.w3.org/2000/svg\" height=\"24px\"viewBox=\"0 0 24 24\"\n",
              "       width=\"24px\">\n",
              "    <path d=\"M0 0h24v24H0V0z\" fill=\"none\"/>\n",
              "    <path d=\"M18.56 5.44l.94 2.06.94-2.06 2.06-.94-2.06-.94-.94-2.06-.94 2.06-2.06.94zm-11 1L8.5 8.5l.94-2.06 2.06-.94-2.06-.94L8.5 2.5l-.94 2.06-2.06.94zm10 10l.94 2.06.94-2.06 2.06-.94-2.06-.94-.94-2.06-.94 2.06-2.06.94z\"/><path d=\"M17.41 7.96l-1.37-1.37c-.4-.4-.92-.59-1.43-.59-.52 0-1.04.2-1.43.59L10.3 9.45l-7.72 7.72c-.78.78-.78 2.05 0 2.83L4 21.41c.39.39.9.59 1.41.59.51 0 1.02-.2 1.41-.59l7.78-7.78 2.81-2.81c.8-.78.8-2.07 0-2.86zM5.41 20L4 18.59l7.72-7.72 1.47 1.35L5.41 20z\"/>\n",
              "  </svg>\n",
              "      </button>\n",
              "      \n",
              "  <style>\n",
              "    .colab-df-container {\n",
              "      display:flex;\n",
              "      flex-wrap:wrap;\n",
              "      gap: 12px;\n",
              "    }\n",
              "\n",
              "    .colab-df-convert {\n",
              "      background-color: #E8F0FE;\n",
              "      border: none;\n",
              "      border-radius: 50%;\n",
              "      cursor: pointer;\n",
              "      display: none;\n",
              "      fill: #1967D2;\n",
              "      height: 32px;\n",
              "      padding: 0 0 0 0;\n",
              "      width: 32px;\n",
              "    }\n",
              "\n",
              "    .colab-df-convert:hover {\n",
              "      background-color: #E2EBFA;\n",
              "      box-shadow: 0px 1px 2px rgba(60, 64, 67, 0.3), 0px 1px 3px 1px rgba(60, 64, 67, 0.15);\n",
              "      fill: #174EA6;\n",
              "    }\n",
              "\n",
              "    [theme=dark] .colab-df-convert {\n",
              "      background-color: #3B4455;\n",
              "      fill: #D2E3FC;\n",
              "    }\n",
              "\n",
              "    [theme=dark] .colab-df-convert:hover {\n",
              "      background-color: #434B5C;\n",
              "      box-shadow: 0px 1px 3px 1px rgba(0, 0, 0, 0.15);\n",
              "      filter: drop-shadow(0px 1px 2px rgba(0, 0, 0, 0.3));\n",
              "      fill: #FFFFFF;\n",
              "    }\n",
              "  </style>\n",
              "\n",
              "      <script>\n",
              "        const buttonEl =\n",
              "          document.querySelector('#df-0eb13829-6599-41dd-8c18-8e988839853b button.colab-df-convert');\n",
              "        buttonEl.style.display =\n",
              "          google.colab.kernel.accessAllowed ? 'block' : 'none';\n",
              "\n",
              "        async function convertToInteractive(key) {\n",
              "          const element = document.querySelector('#df-0eb13829-6599-41dd-8c18-8e988839853b');\n",
              "          const dataTable =\n",
              "            await google.colab.kernel.invokeFunction('convertToInteractive',\n",
              "                                                     [key], {});\n",
              "          if (!dataTable) return;\n",
              "\n",
              "          const docLinkHtml = 'Like what you see? Visit the ' +\n",
              "            '<a target=\"_blank\" href=https://colab.research.google.com/notebooks/data_table.ipynb>data table notebook</a>'\n",
              "            + ' to learn more about interactive tables.';\n",
              "          element.innerHTML = '';\n",
              "          dataTable['output_type'] = 'display_data';\n",
              "          await google.colab.output.renderOutput(dataTable, element);\n",
              "          const docLink = document.createElement('div');\n",
              "          docLink.innerHTML = docLinkHtml;\n",
              "          element.appendChild(docLink);\n",
              "        }\n",
              "      </script>\n",
              "    </div>\n",
              "  </div>\n",
              "  "
            ]
          },
          "metadata": {}
        }
      ],
      "source": [
        "models_rus = clf_models(X_train, y_train, rus)"
      ]
    },
    {
      "cell_type": "markdown",
      "metadata": {
        "id": "5WHKWg_LrSGk"
      },
      "source": [
        "### Oversampling"
      ]
    },
    {
      "cell_type": "code",
      "execution_count": 20,
      "metadata": {
        "id": "6m3W9atqqSO-"
      },
      "outputs": [],
      "source": [
        "ros = RandomOverSampler(random_state=RANDOM_STATE)"
      ]
    },
    {
      "cell_type": "code",
      "execution_count": 21,
      "metadata": {
        "colab": {
          "base_uri": "https://localhost:8080/",
          "height": 269
        },
        "id": "9t63G6wZrqA3",
        "outputId": "fed50c81-b862-48c7-a3ce-d7dfa40b6b10"
      },
      "outputs": [
        {
          "output_type": "display_data",
          "data": {
            "text/plain": [
              "                      mean_fit_time  \\\n",
              "LogisticRegression         0.012271   \n",
              "SGDClassifier              0.011354   \n",
              "RidgeClassifier            0.011315   \n",
              "GaussianNB                 0.011315   \n",
              "SVC                        0.290641   \n",
              "KNeighborsClassifier       0.009649   \n",
              "CatBoostClassifier         6.859024   \n",
              "\n",
              "                                                                 params  \\\n",
              "LogisticRegression                                     {'lr__C': 1e-05}   \n",
              "SGDClassifier                   {'sgd__alpha': 1, 'sgd__penalty': None}   \n",
              "RidgeClassifier                                        {'rd__alpha': 1}   \n",
              "GaussianNB                                             {'rd__alpha': 1}   \n",
              "SVC                   {'svc__C': 0.1, 'svc__gamma': 1, 'svc__kernel'...   \n",
              "KNeighborsClassifier  {'knn__algorithm': 'auto', 'knn__n_neighbors':...   \n",
              "CatBoostClassifier       {'cb__max_depth': 5, 'cb__n_estimators': 3000}   \n",
              "\n",
              "                      mean_test_score  \n",
              "LogisticRegression           0.499681  \n",
              "SGDClassifier                0.492249  \n",
              "RidgeClassifier              0.496851  \n",
              "GaussianNB                   0.496851  \n",
              "SVC                          0.656173  \n",
              "KNeighborsClassifier         0.645470  \n",
              "CatBoostClassifier           0.650217  "
            ],
            "text/html": [
              "\n",
              "  <div id=\"df-6f0e38ee-5a77-454e-9649-4c74e4cdc4ac\">\n",
              "    <div class=\"colab-df-container\">\n",
              "      <div>\n",
              "<style scoped>\n",
              "    .dataframe tbody tr th:only-of-type {\n",
              "        vertical-align: middle;\n",
              "    }\n",
              "\n",
              "    .dataframe tbody tr th {\n",
              "        vertical-align: top;\n",
              "    }\n",
              "\n",
              "    .dataframe thead th {\n",
              "        text-align: right;\n",
              "    }\n",
              "</style>\n",
              "<table border=\"1\" class=\"dataframe\">\n",
              "  <thead>\n",
              "    <tr style=\"text-align: right;\">\n",
              "      <th></th>\n",
              "      <th>mean_fit_time</th>\n",
              "      <th>params</th>\n",
              "      <th>mean_test_score</th>\n",
              "    </tr>\n",
              "  </thead>\n",
              "  <tbody>\n",
              "    <tr>\n",
              "      <th>LogisticRegression</th>\n",
              "      <td>0.012271</td>\n",
              "      <td>{'lr__C': 1e-05}</td>\n",
              "      <td>0.499681</td>\n",
              "    </tr>\n",
              "    <tr>\n",
              "      <th>SGDClassifier</th>\n",
              "      <td>0.011354</td>\n",
              "      <td>{'sgd__alpha': 1, 'sgd__penalty': None}</td>\n",
              "      <td>0.492249</td>\n",
              "    </tr>\n",
              "    <tr>\n",
              "      <th>RidgeClassifier</th>\n",
              "      <td>0.011315</td>\n",
              "      <td>{'rd__alpha': 1}</td>\n",
              "      <td>0.496851</td>\n",
              "    </tr>\n",
              "    <tr>\n",
              "      <th>GaussianNB</th>\n",
              "      <td>0.011315</td>\n",
              "      <td>{'rd__alpha': 1}</td>\n",
              "      <td>0.496851</td>\n",
              "    </tr>\n",
              "    <tr>\n",
              "      <th>SVC</th>\n",
              "      <td>0.290641</td>\n",
              "      <td>{'svc__C': 0.1, 'svc__gamma': 1, 'svc__kernel'...</td>\n",
              "      <td>0.656173</td>\n",
              "    </tr>\n",
              "    <tr>\n",
              "      <th>KNeighborsClassifier</th>\n",
              "      <td>0.009649</td>\n",
              "      <td>{'knn__algorithm': 'auto', 'knn__n_neighbors':...</td>\n",
              "      <td>0.645470</td>\n",
              "    </tr>\n",
              "    <tr>\n",
              "      <th>CatBoostClassifier</th>\n",
              "      <td>6.859024</td>\n",
              "      <td>{'cb__max_depth': 5, 'cb__n_estimators': 3000}</td>\n",
              "      <td>0.650217</td>\n",
              "    </tr>\n",
              "  </tbody>\n",
              "</table>\n",
              "</div>\n",
              "      <button class=\"colab-df-convert\" onclick=\"convertToInteractive('df-6f0e38ee-5a77-454e-9649-4c74e4cdc4ac')\"\n",
              "              title=\"Convert this dataframe to an interactive table.\"\n",
              "              style=\"display:none;\">\n",
              "        \n",
              "  <svg xmlns=\"http://www.w3.org/2000/svg\" height=\"24px\"viewBox=\"0 0 24 24\"\n",
              "       width=\"24px\">\n",
              "    <path d=\"M0 0h24v24H0V0z\" fill=\"none\"/>\n",
              "    <path d=\"M18.56 5.44l.94 2.06.94-2.06 2.06-.94-2.06-.94-.94-2.06-.94 2.06-2.06.94zm-11 1L8.5 8.5l.94-2.06 2.06-.94-2.06-.94L8.5 2.5l-.94 2.06-2.06.94zm10 10l.94 2.06.94-2.06 2.06-.94-2.06-.94-.94-2.06-.94 2.06-2.06.94z\"/><path d=\"M17.41 7.96l-1.37-1.37c-.4-.4-.92-.59-1.43-.59-.52 0-1.04.2-1.43.59L10.3 9.45l-7.72 7.72c-.78.78-.78 2.05 0 2.83L4 21.41c.39.39.9.59 1.41.59.51 0 1.02-.2 1.41-.59l7.78-7.78 2.81-2.81c.8-.78.8-2.07 0-2.86zM5.41 20L4 18.59l7.72-7.72 1.47 1.35L5.41 20z\"/>\n",
              "  </svg>\n",
              "      </button>\n",
              "      \n",
              "  <style>\n",
              "    .colab-df-container {\n",
              "      display:flex;\n",
              "      flex-wrap:wrap;\n",
              "      gap: 12px;\n",
              "    }\n",
              "\n",
              "    .colab-df-convert {\n",
              "      background-color: #E8F0FE;\n",
              "      border: none;\n",
              "      border-radius: 50%;\n",
              "      cursor: pointer;\n",
              "      display: none;\n",
              "      fill: #1967D2;\n",
              "      height: 32px;\n",
              "      padding: 0 0 0 0;\n",
              "      width: 32px;\n",
              "    }\n",
              "\n",
              "    .colab-df-convert:hover {\n",
              "      background-color: #E2EBFA;\n",
              "      box-shadow: 0px 1px 2px rgba(60, 64, 67, 0.3), 0px 1px 3px 1px rgba(60, 64, 67, 0.15);\n",
              "      fill: #174EA6;\n",
              "    }\n",
              "\n",
              "    [theme=dark] .colab-df-convert {\n",
              "      background-color: #3B4455;\n",
              "      fill: #D2E3FC;\n",
              "    }\n",
              "\n",
              "    [theme=dark] .colab-df-convert:hover {\n",
              "      background-color: #434B5C;\n",
              "      box-shadow: 0px 1px 3px 1px rgba(0, 0, 0, 0.15);\n",
              "      filter: drop-shadow(0px 1px 2px rgba(0, 0, 0, 0.3));\n",
              "      fill: #FFFFFF;\n",
              "    }\n",
              "  </style>\n",
              "\n",
              "      <script>\n",
              "        const buttonEl =\n",
              "          document.querySelector('#df-6f0e38ee-5a77-454e-9649-4c74e4cdc4ac button.colab-df-convert');\n",
              "        buttonEl.style.display =\n",
              "          google.colab.kernel.accessAllowed ? 'block' : 'none';\n",
              "\n",
              "        async function convertToInteractive(key) {\n",
              "          const element = document.querySelector('#df-6f0e38ee-5a77-454e-9649-4c74e4cdc4ac');\n",
              "          const dataTable =\n",
              "            await google.colab.kernel.invokeFunction('convertToInteractive',\n",
              "                                                     [key], {});\n",
              "          if (!dataTable) return;\n",
              "\n",
              "          const docLinkHtml = 'Like what you see? Visit the ' +\n",
              "            '<a target=\"_blank\" href=https://colab.research.google.com/notebooks/data_table.ipynb>data table notebook</a>'\n",
              "            + ' to learn more about interactive tables.';\n",
              "          element.innerHTML = '';\n",
              "          dataTable['output_type'] = 'display_data';\n",
              "          await google.colab.output.renderOutput(dataTable, element);\n",
              "          const docLink = document.createElement('div');\n",
              "          docLink.innerHTML = docLinkHtml;\n",
              "          element.appendChild(docLink);\n",
              "        }\n",
              "      </script>\n",
              "    </div>\n",
              "  </div>\n",
              "  "
            ]
          },
          "metadata": {}
        }
      ],
      "source": [
        "models_ros = clf_models(X_train, y_train, ros)"
      ]
    },
    {
      "cell_type": "markdown",
      "metadata": {
        "id": "Y8RL-YTprybd"
      },
      "source": [
        "### SMOTE"
      ]
    },
    {
      "cell_type": "code",
      "execution_count": 22,
      "metadata": {
        "id": "ex2wdqSnr0WT"
      },
      "outputs": [],
      "source": [
        "sm = SMOTE(random_state=RANDOM_STATE)"
      ]
    },
    {
      "cell_type": "code",
      "execution_count": 23,
      "metadata": {
        "colab": {
          "base_uri": "https://localhost:8080/",
          "height": 269
        },
        "id": "owk4W8QksIco",
        "outputId": "4a38fe66-4945-4637-d562-81f306414ac8"
      },
      "outputs": [
        {
          "output_type": "display_data",
          "data": {
            "text/plain": [
              "                      mean_fit_time  \\\n",
              "LogisticRegression         0.014213   \n",
              "SGDClassifier              0.012867   \n",
              "RidgeClassifier            0.012954   \n",
              "GaussianNB                 0.012954   \n",
              "SVC                        0.295045   \n",
              "KNeighborsClassifier       0.012140   \n",
              "CatBoostClassifier         9.984256   \n",
              "\n",
              "                                                                 params  \\\n",
              "LogisticRegression                                     {'lr__C': 1e-05}   \n",
              "SGDClassifier                   {'sgd__alpha': 2, 'sgd__penalty': None}   \n",
              "RidgeClassifier                                        {'rd__alpha': 1}   \n",
              "GaussianNB                                             {'rd__alpha': 1}   \n",
              "SVC                   {'svc__C': 100, 'svc__gamma': 0.01, 'svc__kern...   \n",
              "KNeighborsClassifier  {'knn__algorithm': 'auto', 'knn__n_neighbors':...   \n",
              "CatBoostClassifier       {'cb__max_depth': 5, 'cb__n_estimators': 4000}   \n",
              "\n",
              "                      mean_test_score  \n",
              "LogisticRegression           0.497795  \n",
              "SGDClassifier                0.493107  \n",
              "RidgeClassifier              0.488353  \n",
              "GaussianNB                   0.488353  \n",
              "SVC                          0.644558  \n",
              "KNeighborsClassifier         0.628311  \n",
              "CatBoostClassifier           0.650560  "
            ],
            "text/html": [
              "\n",
              "  <div id=\"df-f2976321-dfa4-4ec1-945a-52a3c6d55c3c\">\n",
              "    <div class=\"colab-df-container\">\n",
              "      <div>\n",
              "<style scoped>\n",
              "    .dataframe tbody tr th:only-of-type {\n",
              "        vertical-align: middle;\n",
              "    }\n",
              "\n",
              "    .dataframe tbody tr th {\n",
              "        vertical-align: top;\n",
              "    }\n",
              "\n",
              "    .dataframe thead th {\n",
              "        text-align: right;\n",
              "    }\n",
              "</style>\n",
              "<table border=\"1\" class=\"dataframe\">\n",
              "  <thead>\n",
              "    <tr style=\"text-align: right;\">\n",
              "      <th></th>\n",
              "      <th>mean_fit_time</th>\n",
              "      <th>params</th>\n",
              "      <th>mean_test_score</th>\n",
              "    </tr>\n",
              "  </thead>\n",
              "  <tbody>\n",
              "    <tr>\n",
              "      <th>LogisticRegression</th>\n",
              "      <td>0.014213</td>\n",
              "      <td>{'lr__C': 1e-05}</td>\n",
              "      <td>0.497795</td>\n",
              "    </tr>\n",
              "    <tr>\n",
              "      <th>SGDClassifier</th>\n",
              "      <td>0.012867</td>\n",
              "      <td>{'sgd__alpha': 2, 'sgd__penalty': None}</td>\n",
              "      <td>0.493107</td>\n",
              "    </tr>\n",
              "    <tr>\n",
              "      <th>RidgeClassifier</th>\n",
              "      <td>0.012954</td>\n",
              "      <td>{'rd__alpha': 1}</td>\n",
              "      <td>0.488353</td>\n",
              "    </tr>\n",
              "    <tr>\n",
              "      <th>GaussianNB</th>\n",
              "      <td>0.012954</td>\n",
              "      <td>{'rd__alpha': 1}</td>\n",
              "      <td>0.488353</td>\n",
              "    </tr>\n",
              "    <tr>\n",
              "      <th>SVC</th>\n",
              "      <td>0.295045</td>\n",
              "      <td>{'svc__C': 100, 'svc__gamma': 0.01, 'svc__kern...</td>\n",
              "      <td>0.644558</td>\n",
              "    </tr>\n",
              "    <tr>\n",
              "      <th>KNeighborsClassifier</th>\n",
              "      <td>0.012140</td>\n",
              "      <td>{'knn__algorithm': 'auto', 'knn__n_neighbors':...</td>\n",
              "      <td>0.628311</td>\n",
              "    </tr>\n",
              "    <tr>\n",
              "      <th>CatBoostClassifier</th>\n",
              "      <td>9.984256</td>\n",
              "      <td>{'cb__max_depth': 5, 'cb__n_estimators': 4000}</td>\n",
              "      <td>0.650560</td>\n",
              "    </tr>\n",
              "  </tbody>\n",
              "</table>\n",
              "</div>\n",
              "      <button class=\"colab-df-convert\" onclick=\"convertToInteractive('df-f2976321-dfa4-4ec1-945a-52a3c6d55c3c')\"\n",
              "              title=\"Convert this dataframe to an interactive table.\"\n",
              "              style=\"display:none;\">\n",
              "        \n",
              "  <svg xmlns=\"http://www.w3.org/2000/svg\" height=\"24px\"viewBox=\"0 0 24 24\"\n",
              "       width=\"24px\">\n",
              "    <path d=\"M0 0h24v24H0V0z\" fill=\"none\"/>\n",
              "    <path d=\"M18.56 5.44l.94 2.06.94-2.06 2.06-.94-2.06-.94-.94-2.06-.94 2.06-2.06.94zm-11 1L8.5 8.5l.94-2.06 2.06-.94-2.06-.94L8.5 2.5l-.94 2.06-2.06.94zm10 10l.94 2.06.94-2.06 2.06-.94-2.06-.94-.94-2.06-.94 2.06-2.06.94z\"/><path d=\"M17.41 7.96l-1.37-1.37c-.4-.4-.92-.59-1.43-.59-.52 0-1.04.2-1.43.59L10.3 9.45l-7.72 7.72c-.78.78-.78 2.05 0 2.83L4 21.41c.39.39.9.59 1.41.59.51 0 1.02-.2 1.41-.59l7.78-7.78 2.81-2.81c.8-.78.8-2.07 0-2.86zM5.41 20L4 18.59l7.72-7.72 1.47 1.35L5.41 20z\"/>\n",
              "  </svg>\n",
              "      </button>\n",
              "      \n",
              "  <style>\n",
              "    .colab-df-container {\n",
              "      display:flex;\n",
              "      flex-wrap:wrap;\n",
              "      gap: 12px;\n",
              "    }\n",
              "\n",
              "    .colab-df-convert {\n",
              "      background-color: #E8F0FE;\n",
              "      border: none;\n",
              "      border-radius: 50%;\n",
              "      cursor: pointer;\n",
              "      display: none;\n",
              "      fill: #1967D2;\n",
              "      height: 32px;\n",
              "      padding: 0 0 0 0;\n",
              "      width: 32px;\n",
              "    }\n",
              "\n",
              "    .colab-df-convert:hover {\n",
              "      background-color: #E2EBFA;\n",
              "      box-shadow: 0px 1px 2px rgba(60, 64, 67, 0.3), 0px 1px 3px 1px rgba(60, 64, 67, 0.15);\n",
              "      fill: #174EA6;\n",
              "    }\n",
              "\n",
              "    [theme=dark] .colab-df-convert {\n",
              "      background-color: #3B4455;\n",
              "      fill: #D2E3FC;\n",
              "    }\n",
              "\n",
              "    [theme=dark] .colab-df-convert:hover {\n",
              "      background-color: #434B5C;\n",
              "      box-shadow: 0px 1px 3px 1px rgba(0, 0, 0, 0.15);\n",
              "      filter: drop-shadow(0px 1px 2px rgba(0, 0, 0, 0.3));\n",
              "      fill: #FFFFFF;\n",
              "    }\n",
              "  </style>\n",
              "\n",
              "      <script>\n",
              "        const buttonEl =\n",
              "          document.querySelector('#df-f2976321-dfa4-4ec1-945a-52a3c6d55c3c button.colab-df-convert');\n",
              "        buttonEl.style.display =\n",
              "          google.colab.kernel.accessAllowed ? 'block' : 'none';\n",
              "\n",
              "        async function convertToInteractive(key) {\n",
              "          const element = document.querySelector('#df-f2976321-dfa4-4ec1-945a-52a3c6d55c3c');\n",
              "          const dataTable =\n",
              "            await google.colab.kernel.invokeFunction('convertToInteractive',\n",
              "                                                     [key], {});\n",
              "          if (!dataTable) return;\n",
              "\n",
              "          const docLinkHtml = 'Like what you see? Visit the ' +\n",
              "            '<a target=\"_blank\" href=https://colab.research.google.com/notebooks/data_table.ipynb>data table notebook</a>'\n",
              "            + ' to learn more about interactive tables.';\n",
              "          element.innerHTML = '';\n",
              "          dataTable['output_type'] = 'display_data';\n",
              "          await google.colab.output.renderOutput(dataTable, element);\n",
              "          const docLink = document.createElement('div');\n",
              "          docLink.innerHTML = docLinkHtml;\n",
              "          element.appendChild(docLink);\n",
              "        }\n",
              "      </script>\n",
              "    </div>\n",
              "  </div>\n",
              "  "
            ]
          },
          "metadata": {}
        }
      ],
      "source": [
        "models_res = clf_models(X_train, y_train, sm)"
      ]
    },
    {
      "cell_type": "markdown",
      "metadata": {
        "id": "7tg3OU_PBwiZ"
      },
      "source": [
        "## Testing models"
      ]
    },
    {
      "cell_type": "markdown",
      "metadata": {
        "id": "iFKjhyuVwiPA"
      },
      "source": [
        "We determined three models, which had shown us the best results. Check them on test sample."
      ]
    },
    {
      "cell_type": "code",
      "execution_count": 24,
      "metadata": {
        "colab": {
          "base_uri": "https://localhost:8080/",
          "height": 333
        },
        "id": "bz5ldeDX8ZSO",
        "outputId": "6ca0200f-6235-4eaf-c3c3-22dca009e589"
      },
      "outputs": [
        {
          "output_type": "display_data",
          "data": {
            "text/plain": [
              "<Figure size 1000x300 with 2 Axes>"
            ],
            "image/png": "[encoded data removed]"
          },
          "metadata": {}
        }
      ],
      "source": [
        "scatter_plot(X_test, y_test)"
      ]
    },
    {
      "cell_type": "code",
      "execution_count": 25,
      "metadata": {
        "colab": {
          "base_uri": "https://localhost:8080/",
          "height": 143
        },
        "id": "z7BEwkdowqbr",
        "outputId": "aad12974-8999-4057-f2be-cf6f8b73a47b"
      },
      "outputs": [
        {
          "output_type": "execute_result",
          "data": {
            "text/plain": [
              "                       Default  Class_weight  Undersampling  Oversampling  \\\n",
              "SVC                   0.619355      0.678663       0.676768      0.677165   \n",
              "KNeighborsClassifier  0.521429      0.521429       0.692737      0.693122   \n",
              "CatBoostClassifier    0.634146      0.682415       0.698020      0.672000   \n",
              "\n",
              "                         SMOTE  \n",
              "SVC                   0.686327  \n",
              "KNeighborsClassifier  0.675532  \n",
              "CatBoostClassifier    0.685864  "
            ],
            "text/html": [
              "\n",
              "  <div id=\"df-b26ada54-4217-4bdd-94a1-125fb0c366de\">\n",
              "    <div class=\"colab-df-container\">\n",
              "      <div>\n",
              "<style scoped>\n",
              "    .dataframe tbody tr th:only-of-type {\n",
              "        vertical-align: middle;\n",
              "    }\n",
              "\n",
              "    .dataframe tbody tr th {\n",
              "        vertical-align: top;\n",
              "    }\n",
              "\n",
              "    .dataframe thead th {\n",
              "        text-align: right;\n",
              "    }\n",
              "</style>\n",
              "<table border=\"1\" class=\"dataframe\">\n",
              "  <thead>\n",
              "    <tr style=\"text-align: right;\">\n",
              "      <th></th>\n",
              "      <th>Default</th>\n",
              "      <th>Class_weight</th>\n",
              "      <th>Undersampling</th>\n",
              "      <th>Oversampling</th>\n",
              "      <th>SMOTE</th>\n",
              "    </tr>\n",
              "  </thead>\n",
              "  <tbody>\n",
              "    <tr>\n",
              "      <th>SVC</th>\n",
              "      <td>0.619355</td>\n",
              "      <td>0.678663</td>\n",
              "      <td>0.676768</td>\n",
              "      <td>0.677165</td>\n",
              "      <td>0.686327</td>\n",
              "    </tr>\n",
              "    <tr>\n",
              "      <th>KNeighborsClassifier</th>\n",
              "      <td>0.521429</td>\n",
              "      <td>0.521429</td>\n",
              "      <td>0.692737</td>\n",
              "      <td>0.693122</td>\n",
              "      <td>0.675532</td>\n",
              "    </tr>\n",
              "    <tr>\n",
              "      <th>CatBoostClassifier</th>\n",
              "      <td>0.634146</td>\n",
              "      <td>0.682415</td>\n",
              "      <td>0.698020</td>\n",
              "      <td>0.672000</td>\n",
              "      <td>0.685864</td>\n",
              "    </tr>\n",
              "  </tbody>\n",
              "</table>\n",
              "</div>\n",
              "      <button class=\"colab-df-convert\" onclick=\"convertToInteractive('df-b26ada54-4217-4bdd-94a1-125fb0c366de')\"\n",
              "              title=\"Convert this dataframe to an interactive table.\"\n",
              "              style=\"display:none;\">\n",
              "        \n",
              "  <svg xmlns=\"http://www.w3.org/2000/svg\" height=\"24px\"viewBox=\"0 0 24 24\"\n",
              "       width=\"24px\">\n",
              "    <path d=\"M0 0h24v24H0V0z\" fill=\"none\"/>\n",
              "    <path d=\"M18.56 5.44l.94 2.06.94-2.06 2.06-.94-2.06-.94-.94-2.06-.94 2.06-2.06.94zm-11 1L8.5 8.5l.94-2.06 2.06-.94-2.06-.94L8.5 2.5l-.94 2.06-2.06.94zm10 10l.94 2.06.94-2.06 2.06-.94-2.06-.94-.94-2.06-.94 2.06-2.06.94z\"/><path d=\"M17.41 7.96l-1.37-1.37c-.4-.4-.92-.59-1.43-.59-.52 0-1.04.2-1.43.59L10.3 9.45l-7.72 7.72c-.78.78-.78 2.05 0 2.83L4 21.41c.39.39.9.59 1.41.59.51 0 1.02-.2 1.41-.59l7.78-7.78 2.81-2.81c.8-.78.8-2.07 0-2.86zM5.41 20L4 18.59l7.72-7.72 1.47 1.35L5.41 20z\"/>\n",
              "  </svg>\n",
              "      </button>\n",
              "      \n",
              "  <style>\n",
              "    .colab-df-container {\n",
              "      display:flex;\n",
              "      flex-wrap:wrap;\n",
              "      gap: 12px;\n",
              "    }\n",
              "\n",
              "    .colab-df-convert {\n",
              "      background-color: #E8F0FE;\n",
              "      border: none;\n",
              "      border-radius: 50%;\n",
              "      cursor: pointer;\n",
              "      display: none;\n",
              "      fill: #1967D2;\n",
              "      height: 32px;\n",
              "      padding: 0 0 0 0;\n",
              "      width: 32px;\n",
              "    }\n",
              "\n",
              "    .colab-df-convert:hover {\n",
              "      background-color: #E2EBFA;\n",
              "      box-shadow: 0px 1px 2px rgba(60, 64, 67, 0.3), 0px 1px 3px 1px rgba(60, 64, 67, 0.15);\n",
              "      fill: #174EA6;\n",
              "    }\n",
              "\n",
              "    [theme=dark] .colab-df-convert {\n",
              "      background-color: #3B4455;\n",
              "      fill: #D2E3FC;\n",
              "    }\n",
              "\n",
              "    [theme=dark] .colab-df-convert:hover {\n",
              "      background-color: #434B5C;\n",
              "      box-shadow: 0px 1px 3px 1px rgba(0, 0, 0, 0.15);\n",
              "      filter: drop-shadow(0px 1px 2px rgba(0, 0, 0, 0.3));\n",
              "      fill: #FFFFFF;\n",
              "    }\n",
              "  </style>\n",
              "\n",
              "      <script>\n",
              "        const buttonEl =\n",
              "          document.querySelector('#df-b26ada54-4217-4bdd-94a1-125fb0c366de button.colab-df-convert');\n",
              "        buttonEl.style.display =\n",
              "          google.colab.kernel.accessAllowed ? 'block' : 'none';\n",
              "\n",
              "        async function convertToInteractive(key) {\n",
              "          const element = document.querySelector('#df-b26ada54-4217-4bdd-94a1-125fb0c366de');\n",
              "          const dataTable =\n",
              "            await google.colab.kernel.invokeFunction('convertToInteractive',\n",
              "                                                     [key], {});\n",
              "          if (!dataTable) return;\n",
              "\n",
              "          const docLinkHtml = 'Like what you see? Visit the ' +\n",
              "            '<a target=\"_blank\" href=https://colab.research.google.com/notebooks/data_table.ipynb>data table notebook</a>'\n",
              "            + ' to learn more about interactive tables.';\n",
              "          element.innerHTML = '';\n",
              "          dataTable['output_type'] = 'display_data';\n",
              "          await google.colab.output.renderOutput(dataTable, element);\n",
              "          const docLink = document.createElement('div');\n",
              "          docLink.innerHTML = docLinkHtml;\n",
              "          element.appendChild(docLink);\n",
              "        }\n",
              "      </script>\n",
              "    </div>\n",
              "  </div>\n",
              "  "
            ]
          },
          "metadata": {},
          "execution_count": 25
        }
      ],
      "source": [
        "df_test = pd.DataFrame(index=['SVC', 'KNeighborsClassifier', 'CatBoostClassifier'])\n",
        "for name, models in ({'Default': general_models,\n",
        "                'Class_weight': models_class_weight, \n",
        "                'Undersampling': models_rus, \n",
        "                'Oversampling': models_ros, \n",
        "                'SMOTE': models_res}).items():\n",
        "    results = []\n",
        "    for i in [4, 5, 6]:\n",
        "          results.append(f1_score(y_test, models[i].predict(X_test)))\n",
        "    df_test[name] = results\n",
        "\n",
        "df_test"
      ]
    },
    {
      "cell_type": "markdown",
      "metadata": {
        "id": "N54KeRat_7ax"
      },
      "source": [
        "We got the best result for the test sample using the CatBoostClassifier. Let's build a confusion matrix and look at each parameter separately."
      ]
    },
    {
      "cell_type": "code",
      "execution_count": 26,
      "metadata": {
        "colab": {
          "base_uri": "https://localhost:8080/",
          "height": 449
        },
        "id": "QOQ2oFhR4AsO",
        "outputId": "906726a7-b1bc-46b4-a448-f196f7677e12"
      },
      "outputs": [
        {
          "output_type": "display_data",
          "data": {
            "text/plain": [
              "<Figure size 640x480 with 2 Axes>"
            ],
            "image/png": "[encoded data removed]"
          },
          "metadata": {}
        }
      ],
      "source": [
        "ConfusionMatrixDisplay.from_estimator(models_rus[6], X_test, y_test, normalize='true', cmap='Blues', colorbar=True);"
      ]
    },
    {
      "cell_type": "markdown",
      "metadata": {
        "id": "VPsokPfOCeqa"
      },
      "source": [
        "We see that only 72% of the minority class is defined correctly. Let's check through the ROC-AUC the possibility to increase this indicator by changing the threshold."
      ]
    },
    {
      "cell_type": "code",
      "execution_count": 27,
      "metadata": {
        "colab": {
          "base_uri": "https://localhost:8080/",
          "height": 424
        },
        "id": "NY0VXaS56kaQ",
        "outputId": "2f9846f2-74f2-4016-b18e-145fd5f348f8"
      },
      "outputs": [
        {
          "output_type": "execute_result",
          "data": {
            "text/plain": [
              "          tpr       fpr  threshold   tpr-fpr\n",
              "94   0.756345  0.172646   0.472169  0.583699\n",
              "88   0.730964  0.154709   0.490236  0.576256\n",
              "92   0.746193  0.170404   0.477628  0.575789\n",
              "86   0.725888  0.150224   0.494098  0.575664\n",
              "93   0.746193  0.172646   0.476640  0.573547\n",
              "..        ...       ...        ...       ...\n",
              "2    0.081218  0.000000   0.993580  0.081218\n",
              "3    0.081218  0.002242   0.991685  0.078976\n",
              "1    0.005076  0.000000   0.998376  0.005076\n",
              "0    0.000000  0.000000   1.998376  0.000000\n",
              "181  1.000000  1.000000   0.066163  0.000000\n",
              "\n",
              "[182 rows x 4 columns]"
            ],
            "text/html": [
              "\n",
              "  <div id=\"df-63eac973-e2e8-4eb1-83c6-930dbe69359d\">\n",
              "    <div class=\"colab-df-container\">\n",
              "      <div>\n",
              "<style scoped>\n",
              "    .dataframe tbody tr th:only-of-type {\n",
              "        vertical-align: middle;\n",
              "    }\n",
              "\n",
              "    .dataframe tbody tr th {\n",
              "        vertical-align: top;\n",
              "    }\n",
              "\n",
              "    .dataframe thead th {\n",
              "        text-align: right;\n",
              "    }\n",
              "</style>\n",
              "<table border=\"1\" class=\"dataframe\">\n",
              "  <thead>\n",
              "    <tr style=\"text-align: right;\">\n",
              "      <th></th>\n",
              "      <th>tpr</th>\n",
              "      <th>fpr</th>\n",
              "      <th>threshold</th>\n",
              "      <th>tpr-fpr</th>\n",
              "    </tr>\n",
              "  </thead>\n",
              "  <tbody>\n",
              "    <tr>\n",
              "      <th>94</th>\n",
              "      <td>0.756345</td>\n",
              "      <td>0.172646</td>\n",
              "      <td>0.472169</td>\n",
              "      <td>0.583699</td>\n",
              "    </tr>\n",
              "    <tr>\n",
              "      <th>88</th>\n",
              "      <td>0.730964</td>\n",
              "      <td>0.154709</td>\n",
              "      <td>0.490236</td>\n",
              "      <td>0.576256</td>\n",
              "    </tr>\n",
              "    <tr>\n",
              "      <th>92</th>\n",
              "      <td>0.746193</td>\n",
              "      <td>0.170404</td>\n",
              "      <td>0.477628</td>\n",
              "      <td>0.575789</td>\n",
              "    </tr>\n",
              "    <tr>\n",
              "      <th>86</th>\n",
              "      <td>0.725888</td>\n",
              "      <td>0.150224</td>\n",
              "      <td>0.494098</td>\n",
              "      <td>0.575664</td>\n",
              "    </tr>\n",
              "    <tr>\n",
              "      <th>93</th>\n",
              "      <td>0.746193</td>\n",
              "      <td>0.172646</td>\n",
              "      <td>0.476640</td>\n",
              "      <td>0.573547</td>\n",
              "    </tr>\n",
              "    <tr>\n",
              "      <th>...</th>\n",
              "      <td>...</td>\n",
              "      <td>...</td>\n",
              "      <td>...</td>\n",
              "      <td>...</td>\n",
              "    </tr>\n",
              "    <tr>\n",
              "      <th>2</th>\n",
              "      <td>0.081218</td>\n",
              "      <td>0.000000</td>\n",
              "      <td>0.993580</td>\n",
              "      <td>0.081218</td>\n",
              "    </tr>\n",
              "    <tr>\n",
              "      <th>3</th>\n",
              "      <td>0.081218</td>\n",
              "      <td>0.002242</td>\n",
              "      <td>0.991685</td>\n",
              "      <td>0.078976</td>\n",
              "    </tr>\n",
              "    <tr>\n",
              "      <th>1</th>\n",
              "      <td>0.005076</td>\n",
              "      <td>0.000000</td>\n",
              "      <td>0.998376</td>\n",
              "      <td>0.005076</td>\n",
              "    </tr>\n",
              "    <tr>\n",
              "      <th>0</th>\n",
              "      <td>0.000000</td>\n",
              "      <td>0.000000</td>\n",
              "      <td>1.998376</td>\n",
              "      <td>0.000000</td>\n",
              "    </tr>\n",
              "    <tr>\n",
              "      <th>181</th>\n",
              "      <td>1.000000</td>\n",
              "      <td>1.000000</td>\n",
              "      <td>0.066163</td>\n",
              "      <td>0.000000</td>\n",
              "    </tr>\n",
              "  </tbody>\n",
              "</table>\n",
              "<p>182 rows × 4 columns</p>\n",
              "</div>\n",
              "      <button class=\"colab-df-convert\" onclick=\"convertToInteractive('df-63eac973-e2e8-4eb1-83c6-930dbe69359d')\"\n",
              "              title=\"Convert this dataframe to an interactive table.\"\n",
              "              style=\"display:none;\">\n",
              "        \n",
              "  <svg xmlns=\"http://www.w3.org/2000/svg\" height=\"24px\"viewBox=\"0 0 24 24\"\n",
              "       width=\"24px\">\n",
              "    <path d=\"M0 0h24v24H0V0z\" fill=\"none\"/>\n",
              "    <path d=\"M18.56 5.44l.94 2.06.94-2.06 2.06-.94-2.06-.94-.94-2.06-.94 2.06-2.06.94zm-11 1L8.5 8.5l.94-2.06 2.06-.94-2.06-.94L8.5 2.5l-.94 2.06-2.06.94zm10 10l.94 2.06.94-2.06 2.06-.94-2.06-.94-.94-2.06-.94 2.06-2.06.94z\"/><path d=\"M17.41 7.96l-1.37-1.37c-.4-.4-.92-.59-1.43-.59-.52 0-1.04.2-1.43.59L10.3 9.45l-7.72 7.72c-.78.78-.78 2.05 0 2.83L4 21.41c.39.39.9.59 1.41.59.51 0 1.02-.2 1.41-.59l7.78-7.78 2.81-2.81c.8-.78.8-2.07 0-2.86zM5.41 20L4 18.59l7.72-7.72 1.47 1.35L5.41 20z\"/>\n",
              "  </svg>\n",
              "      </button>\n",
              "      \n",
              "  <style>\n",
              "    .colab-df-container {\n",
              "      display:flex;\n",
              "      flex-wrap:wrap;\n",
              "      gap: 12px;\n",
              "    }\n",
              "\n",
              "    .colab-df-convert {\n",
              "      background-color: #E8F0FE;\n",
              "      border: none;\n",
              "      border-radius: 50%;\n",
              "      cursor: pointer;\n",
              "      display: none;\n",
              "      fill: #1967D2;\n",
              "      height: 32px;\n",
              "      padding: 0 0 0 0;\n",
              "      width: 32px;\n",
              "    }\n",
              "\n",
              "    .colab-df-convert:hover {\n",
              "      background-color: #E2EBFA;\n",
              "      box-shadow: 0px 1px 2px rgba(60, 64, 67, 0.3), 0px 1px 3px 1px rgba(60, 64, 67, 0.15);\n",
              "      fill: #174EA6;\n",
              "    }\n",
              "\n",
              "    [theme=dark] .colab-df-convert {\n",
              "      background-color: #3B4455;\n",
              "      fill: #D2E3FC;\n",
              "    }\n",
              "\n",
              "    [theme=dark] .colab-df-convert:hover {\n",
              "      background-color: #434B5C;\n",
              "      box-shadow: 0px 1px 3px 1px rgba(0, 0, 0, 0.15);\n",
              "      filter: drop-shadow(0px 1px 2px rgba(0, 0, 0, 0.3));\n",
              "      fill: #FFFFFF;\n",
              "    }\n",
              "  </style>\n",
              "\n",
              "      <script>\n",
              "        const buttonEl =\n",
              "          document.querySelector('#df-63eac973-e2e8-4eb1-83c6-930dbe69359d button.colab-df-convert');\n",
              "        buttonEl.style.display =\n",
              "          google.colab.kernel.accessAllowed ? 'block' : 'none';\n",
              "\n",
              "        async function convertToInteractive(key) {\n",
              "          const element = document.querySelector('#df-63eac973-e2e8-4eb1-83c6-930dbe69359d');\n",
              "          const dataTable =\n",
              "            await google.colab.kernel.invokeFunction('convertToInteractive',\n",
              "                                                     [key], {});\n",
              "          if (!dataTable) return;\n",
              "\n",
              "          const docLinkHtml = 'Like what you see? Visit the ' +\n",
              "            '<a target=\"_blank\" href=https://colab.research.google.com/notebooks/data_table.ipynb>data table notebook</a>'\n",
              "            + ' to learn more about interactive tables.';\n",
              "          element.innerHTML = '';\n",
              "          dataTable['output_type'] = 'display_data';\n",
              "          await google.colab.output.renderOutput(dataTable, element);\n",
              "          const docLink = document.createElement('div');\n",
              "          docLink.innerHTML = docLinkHtml;\n",
              "          element.appendChild(docLink);\n",
              "        }\n",
              "      </script>\n",
              "    </div>\n",
              "  </div>\n",
              "  "
            ]
          },
          "metadata": {},
          "execution_count": 27
        }
      ],
      "source": [
        "probabilities = models_rus[6].predict_proba(X_test)\n",
        "y_score = probabilities[:, 1]\n",
        "fpr, tpr, threshold = roc_curve(y_test, y_score)\n",
        "roc_auc = pd.DataFrame({'tpr': tpr, 'fpr': fpr, 'threshold': threshold})\n",
        "roc_auc['tpr-fpr'] = roc_auc['tpr'] - roc_auc['fpr']\n",
        "roc_auc.sort_values('tpr-fpr', ascending=False)"
      ]
    },
    {
      "cell_type": "markdown",
      "metadata": {
        "id": "0DeV4BX4Crt7"
      },
      "source": [
        "The best threshold at which the difference between tpr and fpr is maximum is 0.5"
      ]
    },
    {
      "cell_type": "code",
      "execution_count": 28,
      "metadata": {
        "colab": {
          "base_uri": "https://localhost:8080/",
          "height": 508
        },
        "id": "ETutYGs48itP",
        "outputId": "20b20228-f2bd-4508-9026-0918f96a91e0"
      },
      "outputs": [
        {
          "output_type": "display_data",
          "data": {
            "text/plain": [
              "'ROC-AUC score:'"
            ],
            "application/vnd.google.colaboratory.intrinsic+json": {
              "type": "string"
            }
          },
          "metadata": {}
        },
        {
          "output_type": "display_data",
          "data": {
            "text/plain": [
              "0.783876988914434"
            ]
          },
          "metadata": {}
        },
        {
          "output_type": "display_data",
          "data": {
            "text/plain": [
              "<Figure size 640x480 with 1 Axes>"
            ],
            "image/png": "[encoded data removed]"
          },
          "metadata": {}
        }
      ],
      "source": [
        "sns.lineplot(x=fpr, y=tpr)\n",
        "plt.xlim([0, 1])\n",
        "plt.ylim([0, 1])\n",
        "\n",
        "plt.xlabel(\"False Positive Rate\")\n",
        "plt.ylabel(\"True Positive Rate\")\n",
        "plt.grid()\n",
        "plt.title(\"ROC-AUC\");\n",
        "display('ROC-AUC score:', roc_auc_score(y_test, models_rus[6].predict(X_test)))"
      ]
    },
    {
      "cell_type": "code",
      "source": [
        "optimal_threshold = roc_auc.sort_values('tpr-fpr', ascending=False)['threshold'].head(1).values[0]\n",
        "optimal_threshold"
      ],
      "metadata": {
        "colab": {
          "base_uri": "https://localhost:8080/"
        },
        "id": "-koTgTD_j27p",
        "outputId": "cc9485c4-fbb3-4d4d-8464-935a3af2ec24"
      },
      "execution_count": 29,
      "outputs": [
        {
          "output_type": "execute_result",
          "data": {
            "text/plain": [
              "0.47216940259690343"
            ]
          },
          "metadata": {},
          "execution_count": 29
        }
      ]
    },
    {
      "cell_type": "code",
      "source": [
        "ConfusionMatrixDisplay.from_predictions(y_test, y_score >= optimal_threshold, normalize='true', colorbar=True, cmap='Blues');"
      ],
      "metadata": {
        "colab": {
          "base_uri": "https://localhost:8080/",
          "height": 449
        },
        "id": "ZXtnaeY2j_On",
        "outputId": "219dbe95-3474-4383-f1c7-433f9fa2dc97"
      },
      "execution_count": 30,
      "outputs": [
        {
          "output_type": "display_data",
          "data": {
            "text/plain": [
              "<Figure size 640x480 with 2 Axes>"
            ],
            "image/png": "[encoded data removed]"
          },
          "metadata": {}
        }
      ]
    },
    {
      "cell_type": "markdown",
      "metadata": {
        "id": "pwkNp00XDiUo"
      },
      "source": [
        "## Conclusion"
      ]
    },
    {
      "cell_type": "markdown",
      "metadata": {
        "id": "LJjrB-VSZ7ae"
      },
      "source": [
        "We received a data set that did not require pre-processing of the data. During the analysis, an imbalance of classes was revealed, which we took into account in the process of teaching seven different models. Based on the results of the training, 3 models with a higher f1 score were identified. After testing models with various methods to eliminate the imbalance, a Cat Boost classifier model was selected, trained using the insufficient sampling method.\n",
        "Using ROC-AUC, we can determine the best threshold at which the difference between tpr and fpr will be maximal. In our case, it turned out to be 0.47. Thus, by changing the threshold to optimal, we improved the definition of the minority class by 4%."
      ]
    },
    {
      "cell_type": "code",
      "execution_count": 30,
      "metadata": {
        "id": "haHDRkdj9pMO"
      },
      "outputs": [],
      "source": []
    }
  ],
  "metadata": {
    "ExecuteTimeLog": [
      {
        "duration": 1282,
        "start_time": "2022-12-11T09:02:46.876Z"
      },
      {
        "duration": 3,
        "start_time": "2022-12-11T09:02:58.338Z"
      },
      {
        "duration": 74,
        "start_time": "2022-12-11T09:03:33.094Z"
      },
      {
        "duration": 19,
        "start_time": "2022-12-11T09:03:41.360Z"
      },
      {
        "duration": 4,
        "start_time": "2022-12-11T09:05:47.799Z"
      },
      {
        "duration": 4,
        "start_time": "2022-12-11T09:14:05.145Z"
      },
      {
        "duration": 30,
        "start_time": "2022-12-11T09:14:07.605Z"
      },
      {
        "duration": 17,
        "start_time": "2022-12-11T09:14:08.362Z"
      },
      {
        "duration": 8,
        "start_time": "2022-12-11T09:14:14.324Z"
      },
      {
        "duration": 6,
        "start_time": "2022-12-11T09:31:46.394Z"
      },
      {
        "duration": 5,
        "start_time": "2022-12-11T09:33:07.970Z"
      },
      {
        "duration": 7,
        "start_time": "2022-12-11T09:36:36.796Z"
      },
      {
        "duration": 12,
        "start_time": "2022-12-11T09:36:51.744Z"
      },
      {
        "duration": 30,
        "start_time": "2022-12-11T09:55:46.189Z"
      },
      {
        "duration": 29,
        "start_time": "2022-12-11T10:03:20.584Z"
      },
      {
        "duration": 32,
        "start_time": "2022-12-11T10:08:32.680Z"
      },
      {
        "duration": 31,
        "start_time": "2022-12-11T10:08:42.769Z"
      },
      {
        "duration": 11,
        "start_time": "2022-12-11T10:08:47.690Z"
      },
      {
        "duration": 18,
        "start_time": "2022-12-11T10:09:03.350Z"
      },
      {
        "duration": 36046,
        "start_time": "2022-12-11T10:09:38.815Z"
      },
      {
        "duration": 3052,
        "start_time": "2022-12-11T10:11:41.652Z"
      },
      {
        "duration": 29,
        "start_time": "2022-12-11T10:16:13.160Z"
      },
      {
        "duration": 3011,
        "start_time": "2022-12-11T10:16:15.114Z"
      },
      {
        "duration": 93,
        "start_time": "2022-12-11T10:16:31.560Z"
      },
      {
        "duration": 241,
        "start_time": "2022-12-11T10:16:55.444Z"
      },
      {
        "duration": 3074,
        "start_time": "2022-12-11T10:17:51.445Z"
      },
      {
        "duration": 16,
        "start_time": "2022-12-11T10:18:19.884Z"
      },
      {
        "duration": 36459,
        "start_time": "2022-12-11T10:18:31.854Z"
      },
      {
        "duration": 91,
        "start_time": "2022-12-11T10:19:30.384Z"
      },
      {
        "duration": 41,
        "start_time": "2022-12-11T10:19:34.258Z"
      },
      {
        "duration": 24241,
        "start_time": "2022-12-11T10:27:27.148Z"
      },
      {
        "duration": 1909,
        "start_time": "2022-12-11T10:28:41.144Z"
      },
      {
        "duration": 801,
        "start_time": "2022-12-11T10:29:11.853Z"
      },
      {
        "duration": 104,
        "start_time": "2022-12-11T10:31:31.351Z"
      },
      {
        "duration": 67,
        "start_time": "2022-12-11T10:31:55.805Z"
      },
      {
        "duration": 20,
        "start_time": "2022-12-11T10:32:13.558Z"
      },
      {
        "duration": 101,
        "start_time": "2022-12-11T10:34:28.178Z"
      },
      {
        "duration": 29,
        "start_time": "2022-12-11T10:34:46.790Z"
      },
      {
        "duration": 40,
        "start_time": "2022-12-11T10:36:04.152Z"
      },
      {
        "duration": 18,
        "start_time": "2022-12-11T10:36:10.657Z"
      },
      {
        "duration": 34,
        "start_time": "2022-12-11T10:36:44.015Z"
      },
      {
        "duration": 258,
        "start_time": "2022-12-11T10:37:19.412Z"
      },
      {
        "duration": 246,
        "start_time": "2022-12-11T10:37:30.110Z"
      },
      {
        "duration": 183,
        "start_time": "2022-12-11T10:37:38.807Z"
      },
      {
        "duration": 44,
        "start_time": "2022-12-11T10:38:56.116Z"
      },
      {
        "duration": 32,
        "start_time": "2022-12-11T10:47:10.110Z"
      },
      {
        "duration": 38,
        "start_time": "2022-12-11T10:47:34.744Z"
      },
      {
        "duration": 4,
        "start_time": "2022-12-11T10:53:34.144Z"
      },
      {
        "duration": 50,
        "start_time": "2022-12-11T10:53:34.151Z"
      },
      {
        "duration": 7,
        "start_time": "2022-12-11T10:53:34.204Z"
      },
      {
        "duration": 60,
        "start_time": "2022-12-11T10:53:34.213Z"
      },
      {
        "duration": 15,
        "start_time": "2022-12-11T10:53:34.276Z"
      },
      {
        "duration": 53,
        "start_time": "2022-12-11T10:53:34.294Z"
      },
      {
        "duration": 13,
        "start_time": "2022-12-11T10:53:34.350Z"
      },
      {
        "duration": 49,
        "start_time": "2022-12-11T10:53:34.366Z"
      },
      {
        "duration": 37850,
        "start_time": "2022-12-11T10:53:34.418Z"
      },
      {
        "duration": 34,
        "start_time": "2022-12-11T10:54:12.270Z"
      },
      {
        "duration": 42,
        "start_time": "2022-12-11T10:57:55.108Z"
      },
      {
        "duration": 19,
        "start_time": "2022-12-11T10:58:20.063Z"
      },
      {
        "duration": 6,
        "start_time": "2022-12-11T11:02:32.850Z"
      },
      {
        "duration": 3,
        "start_time": "2022-12-11T11:02:45.048Z"
      },
      {
        "duration": 55,
        "start_time": "2022-12-11T11:02:45.054Z"
      },
      {
        "duration": 8,
        "start_time": "2022-12-11T11:02:45.110Z"
      },
      {
        "duration": 63,
        "start_time": "2022-12-11T11:02:45.119Z"
      },
      {
        "duration": 12,
        "start_time": "2022-12-11T11:02:45.185Z"
      },
      {
        "duration": 54,
        "start_time": "2022-12-11T11:02:45.199Z"
      },
      {
        "duration": 11,
        "start_time": "2022-12-11T11:02:45.255Z"
      },
      {
        "duration": 70,
        "start_time": "2022-12-11T11:02:45.267Z"
      },
      {
        "duration": 37852,
        "start_time": "2022-12-11T11:02:45.338Z"
      },
      {
        "duration": 44,
        "start_time": "2022-12-11T11:03:23.192Z"
      },
      {
        "duration": 19,
        "start_time": "2022-12-11T11:03:23.238Z"
      },
      {
        "duration": 85126,
        "start_time": "2022-12-11T11:35:57.320Z"
      },
      {
        "duration": 137929,
        "start_time": "2022-12-11T11:38:34.535Z"
      },
      {
        "duration": 7481,
        "start_time": "2022-12-11T11:41:45.972Z"
      },
      {
        "duration": 6,
        "start_time": "2022-12-11T11:42:05.200Z"
      },
      {
        "duration": 1047,
        "start_time": "2022-12-11T11:42:15.790Z"
      },
      {
        "duration": 440,
        "start_time": "2022-12-11T11:42:24.551Z"
      },
      {
        "duration": 1024,
        "start_time": "2022-12-11T11:42:32.739Z"
      },
      {
        "duration": 655,
        "start_time": "2022-12-11T11:42:45.805Z"
      },
      {
        "duration": 1171,
        "start_time": "2022-12-11T11:42:52.967Z"
      },
      {
        "duration": 944,
        "start_time": "2022-12-11T11:43:00.586Z"
      },
      {
        "duration": 766,
        "start_time": "2022-12-11T11:43:36.971Z"
      },
      {
        "duration": 643,
        "start_time": "2022-12-11T11:43:42.764Z"
      },
      {
        "duration": 769,
        "start_time": "2022-12-11T11:43:47.120Z"
      },
      {
        "duration": 4050,
        "start_time": "2022-12-11T11:44:34.334Z"
      },
      {
        "duration": 32304,
        "start_time": "2022-12-11T11:46:56.267Z"
      },
      {
        "duration": 4,
        "start_time": "2022-12-11T12:06:32.004Z"
      },
      {
        "duration": 5,
        "start_time": "2022-12-11T12:07:08.785Z"
      },
      {
        "duration": 6,
        "start_time": "2022-12-11T12:07:19.874Z"
      },
      {
        "duration": 10,
        "start_time": "2022-12-11T14:42:40.178Z"
      },
      {
        "duration": 10,
        "start_time": "2022-12-11T14:45:45.179Z"
      },
      {
        "duration": 524,
        "start_time": "2022-12-11T14:46:11.547Z"
      },
      {
        "duration": 359,
        "start_time": "2022-12-11T14:46:17.623Z"
      },
      {
        "duration": 88,
        "start_time": "2022-12-11T14:46:35.791Z"
      },
      {
        "duration": 28,
        "start_time": "2022-12-11T14:46:37.471Z"
      },
      {
        "duration": 7,
        "start_time": "2022-12-11T14:46:37.913Z"
      },
      {
        "duration": 12,
        "start_time": "2022-12-11T14:46:39.716Z"
      },
      {
        "duration": 340,
        "start_time": "2022-12-11T14:46:44.808Z"
      },
      {
        "duration": 332,
        "start_time": "2022-12-11T14:46:52.772Z"
      },
      {
        "duration": 10,
        "start_time": "2022-12-11T14:47:44.578Z"
      },
      {
        "duration": 133,
        "start_time": "2022-12-11T14:48:14.836Z"
      },
      {
        "duration": 480,
        "start_time": "2022-12-11T14:49:41.808Z"
      },
      {
        "duration": 399,
        "start_time": "2022-12-11T14:50:28.516Z"
      },
      {
        "duration": 388,
        "start_time": "2022-12-11T14:50:55.215Z"
      },
      {
        "duration": 4,
        "start_time": "2022-12-11T14:53:53.081Z"
      },
      {
        "duration": 447,
        "start_time": "2022-12-11T14:56:02.035Z"
      },
      {
        "duration": 418,
        "start_time": "2022-12-11T14:56:24.162Z"
      },
      {
        "duration": 380,
        "start_time": "2022-12-11T14:56:41.392Z"
      },
      {
        "duration": 500,
        "start_time": "2022-12-11T14:58:07.946Z"
      },
      {
        "duration": 347,
        "start_time": "2022-12-11T15:00:10.017Z"
      },
      {
        "duration": 367,
        "start_time": "2022-12-11T15:00:50.790Z"
      },
      {
        "duration": 76,
        "start_time": "2022-12-11T15:04:15.902Z"
      },
      {
        "duration": 276,
        "start_time": "2022-12-11T15:04:19.936Z"
      },
      {
        "duration": 282,
        "start_time": "2022-12-11T15:04:46.581Z"
      },
      {
        "duration": 454,
        "start_time": "2022-12-11T15:05:01.557Z"
      },
      {
        "duration": 349,
        "start_time": "2022-12-11T16:07:59.749Z"
      },
      {
        "duration": 10,
        "start_time": "2022-12-11T16:12:27.919Z"
      },
      {
        "duration": 3,
        "start_time": "2022-12-11T16:12:51.498Z"
      },
      {
        "duration": 164,
        "start_time": "2022-12-11T16:12:56.850Z"
      },
      {
        "duration": 154,
        "start_time": "2022-12-11T16:13:10.246Z"
      },
      {
        "duration": 4,
        "start_time": "2022-12-11T16:14:04.880Z"
      },
      {
        "duration": 4,
        "start_time": "2022-12-11T16:16:11.255Z"
      },
      {
        "duration": 10,
        "start_time": "2022-12-11T16:16:28.674Z"
      },
      {
        "duration": 139,
        "start_time": "2022-12-11T16:16:45.527Z"
      },
      {
        "duration": 135,
        "start_time": "2022-12-11T16:16:53.735Z"
      },
      {
        "duration": 5,
        "start_time": "2022-12-11T16:19:33.176Z"
      },
      {
        "duration": 8,
        "start_time": "2022-12-11T16:20:12.281Z"
      },
      {
        "duration": 12,
        "start_time": "2022-12-11T16:23:20.101Z"
      },
      {
        "duration": 12,
        "start_time": "2022-12-11T16:24:17.819Z"
      },
      {
        "duration": 6927,
        "start_time": "2022-12-11T16:26:36.154Z"
      },
      {
        "duration": 22,
        "start_time": "2022-12-11T16:26:56.795Z"
      },
      {
        "duration": 1214,
        "start_time": "2022-12-11T16:27:26.372Z"
      },
      {
        "duration": 2055,
        "start_time": "2022-12-11T16:27:36.188Z"
      },
      {
        "duration": 18,
        "start_time": "2022-12-11T16:27:43.400Z"
      },
      {
        "duration": 7,
        "start_time": "2022-12-11T16:35:24.739Z"
      },
      {
        "duration": 6,
        "start_time": "2022-12-11T16:36:52.470Z"
      },
      {
        "duration": 4,
        "start_time": "2022-12-11T16:49:37.004Z"
      },
      {
        "duration": 5,
        "start_time": "2022-12-11T16:49:40.963Z"
      },
      {
        "duration": 13,
        "start_time": "2022-12-11T16:58:20.588Z"
      },
      {
        "duration": 17,
        "start_time": "2022-12-11T17:00:28.948Z"
      },
      {
        "duration": 40494,
        "start_time": "2022-12-11T17:20:19.173Z"
      },
      {
        "duration": 28,
        "start_time": "2022-12-11T17:23:28.592Z"
      },
      {
        "duration": 2645,
        "start_time": "2022-12-11T17:25:47.787Z"
      },
      {
        "duration": 29,
        "start_time": "2022-12-11T17:26:19.136Z"
      },
      {
        "duration": 162,
        "start_time": "2022-12-11T17:27:33.671Z"
      },
      {
        "duration": 137,
        "start_time": "2022-12-11T17:27:56.499Z"
      },
      {
        "duration": 142,
        "start_time": "2022-12-11T18:27:15.472Z"
      },
      {
        "duration": 6,
        "start_time": "2022-12-11T18:27:51.085Z"
      },
      {
        "duration": 136,
        "start_time": "2022-12-11T18:28:15.505Z"
      },
      {
        "duration": 115,
        "start_time": "2022-12-11T18:28:33.337Z"
      },
      {
        "duration": 14928,
        "start_time": "2022-12-11T18:29:48.880Z"
      },
      {
        "duration": 15431,
        "start_time": "2022-12-11T18:30:24.218Z"
      },
      {
        "duration": 15463,
        "start_time": "2022-12-11T18:31:39.128Z"
      },
      {
        "duration": 69,
        "start_time": "2022-12-11T18:32:08.681Z"
      },
      {
        "duration": 4930,
        "start_time": "2022-12-11T18:40:01.639Z"
      },
      {
        "duration": 412,
        "start_time": "2022-12-11T18:40:25.503Z"
      },
      {
        "duration": 450,
        "start_time": "2022-12-11T18:41:02.006Z"
      },
      {
        "duration": 12,
        "start_time": "2022-12-11T18:43:45.321Z"
      },
      {
        "duration": 10,
        "start_time": "2022-12-11T18:44:01.157Z"
      },
      {
        "duration": 387,
        "start_time": "2022-12-11T18:49:20.992Z"
      },
      {
        "duration": 304,
        "start_time": "2022-12-11T18:49:27.650Z"
      },
      {
        "duration": 1239,
        "start_time": "2022-12-11T19:01:43.841Z"
      },
      {
        "duration": 29,
        "start_time": "2022-12-11T19:01:45.082Z"
      },
      {
        "duration": 9,
        "start_time": "2022-12-11T19:01:45.113Z"
      },
      {
        "duration": 6,
        "start_time": "2022-12-11T19:01:45.124Z"
      },
      {
        "duration": 8,
        "start_time": "2022-12-11T19:01:45.132Z"
      },
      {
        "duration": 14,
        "start_time": "2022-12-11T19:01:45.142Z"
      },
      {
        "duration": 34,
        "start_time": "2022-12-11T19:01:45.157Z"
      },
      {
        "duration": 31673,
        "start_time": "2022-12-11T19:01:45.193Z"
      },
      {
        "duration": 25,
        "start_time": "2022-12-11T19:02:16.868Z"
      },
      {
        "duration": 28,
        "start_time": "2022-12-11T19:02:16.895Z"
      },
      {
        "duration": 169,
        "start_time": "2022-12-11T19:02:16.925Z"
      },
      {
        "duration": 169,
        "start_time": "2022-12-11T19:02:17.095Z"
      },
      {
        "duration": 147,
        "start_time": "2022-12-11T19:02:17.265Z"
      },
      {
        "duration": 13,
        "start_time": "2022-12-11T19:02:17.414Z"
      },
      {
        "duration": 175,
        "start_time": "2022-12-11T19:02:17.429Z"
      },
      {
        "duration": 465,
        "start_time": "2022-12-11T19:02:17.606Z"
      },
      {
        "duration": 346,
        "start_time": "2022-12-11T19:02:18.073Z"
      },
      {
        "duration": 68,
        "start_time": "2022-12-12T07:50:37.916Z"
      },
      {
        "duration": 72,
        "start_time": "2022-12-12T07:51:41.118Z"
      },
      {
        "duration": 76,
        "start_time": "2022-12-12T07:53:53.749Z"
      },
      {
        "duration": 77,
        "start_time": "2022-12-12T07:54:29.260Z"
      },
      {
        "duration": 4,
        "start_time": "2022-12-12T07:54:48.539Z"
      },
      {
        "duration": 41,
        "start_time": "2022-12-12T07:54:48.546Z"
      },
      {
        "duration": 7,
        "start_time": "2022-12-12T07:54:48.590Z"
      },
      {
        "duration": 20,
        "start_time": "2022-12-12T07:54:48.599Z"
      },
      {
        "duration": 29,
        "start_time": "2022-12-12T07:54:48.623Z"
      },
      {
        "duration": 15,
        "start_time": "2022-12-12T07:54:48.654Z"
      },
      {
        "duration": 2923,
        "start_time": "2022-12-12T07:54:48.671Z"
      },
      {
        "duration": 56,
        "start_time": "2022-12-12T07:54:51.597Z"
      },
      {
        "duration": 33474,
        "start_time": "2022-12-12T07:54:51.657Z"
      },
      {
        "duration": 33,
        "start_time": "2022-12-12T07:55:25.133Z"
      },
      {
        "duration": 15,
        "start_time": "2022-12-12T07:55:25.168Z"
      },
      {
        "duration": 195,
        "start_time": "2022-12-12T07:55:25.185Z"
      },
      {
        "duration": 174,
        "start_time": "2022-12-12T07:55:25.384Z"
      },
      {
        "duration": 154,
        "start_time": "2022-12-12T07:55:25.560Z"
      },
      {
        "duration": 10,
        "start_time": "2022-12-12T07:55:25.716Z"
      },
      {
        "duration": 194,
        "start_time": "2022-12-12T07:55:25.728Z"
      },
      {
        "duration": 450,
        "start_time": "2022-12-12T07:55:25.924Z"
      },
      {
        "duration": 392,
        "start_time": "2022-12-12T07:55:26.377Z"
      }
    ],
    "colab": {
      "provenance": [],
      "toc_visible": true
    },
    "kernelspec": {
      "display_name": "Python 3 (ipykernel)",
      "language": "python",
      "name": "python3"
    },
    "language_info": {
      "codemirror_mode": {
        "name": "ipython",
        "version": 3
      },
      "file_extension": ".py",
      "mimetype": "text/x-python",
      "name": "python",
      "nbconvert_exporter": "python",
      "pygments_lexer": "ipython3",
      "version": "3.9.12"
    },
    "toc": {
      "base_numbering": 1,
      "nav_menu": {
        "height": "195px",
        "width": "594px"
      },
      "number_sections": true,
      "sideBar": true,
      "skip_h1_title": true,
      "title_cell": "Table of Contents",
      "title_sidebar": "Contents",
      "toc_cell": false,
      "toc_position": {},
      "toc_section_display": true,
      "toc_window_display": false
    },
    "varInspector": {
      "cols": {
        "lenName": 16,
        "lenType": 16,
        "lenVar": 40
      },
      "kernels_config": {
        "python": {
          "delete_cmd_postfix": "",
          "delete_cmd_prefix": "del ",
          "library": "var_list.py",
          "varRefreshCmd": "print(var_dic_list())"
        },
        "r": {
          "delete_cmd_postfix": ") ",
          "delete_cmd_prefix": "rm(",
          "library": "var_list.r",
          "varRefreshCmd": "cat(var_dic_list()) "
        }
      },
      "types_to_exclude": [
        "module",
        "function",
        "builtin_function_or_method",
        "instance",
        "_Feature"
      ],
      "window_display": false
    }
  },
  "nbformat": 4,
  "nbformat_minor": 0
}