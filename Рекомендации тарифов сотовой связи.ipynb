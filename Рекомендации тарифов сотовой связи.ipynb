{
 "cells": [
  {
   "cell_type": "markdown",
   "metadata": {},
   "source": [
    "# Рекомендация тарифов"
   ]
  },
  {
   "attachments": {},
   "cell_type": "markdown",
   "metadata": {},
   "source": [
    "Нужно построить модель для задачи классификации, которая выберет подходящий тариф. Предобработка данных уже сделана\n",
    "\n",
    "Построим модель с максимально большим значением *accuracy*. "
   ]
  },
  {
   "cell_type": "code",
   "execution_count": 22,
   "metadata": {},
   "outputs": [],
   "source": [
    "import pandas as pd\n",
    "from sklearn.model_selection import train_test_split\n",
    "from sklearn.ensemble import RandomForestClassifier\n",
    "from sklearn.linear_model import LogisticRegression\n",
    "from sklearn.tree import DecisionTreeClassifier\n",
    "from sklearn.metrics import accuracy_score\n",
    "from sklearn.metrics import plot_confusion_matrix\n",
    "import matplotlib.pyplot as plt\n",
    "import seaborn as sns"
   ]
  },
  {
   "cell_type": "code",
   "execution_count": 23,
   "metadata": {},
   "outputs": [],
   "source": [
    "df = pd.read_csv('/datasets/users_behavior.csv')"
   ]
  },
  {
   "cell_type": "code",
   "execution_count": 24,
   "metadata": {},
   "outputs": [
    {
     "data": {
      "text/plain": [
       "calls       0\n",
       "minutes     0\n",
       "messages    0\n",
       "mb_used     0\n",
       "is_ultra    0\n",
       "dtype: int64"
      ]
     },
     "execution_count": 24,
     "metadata": {},
     "output_type": "execute_result"
    }
   ],
   "source": [
    "df.isna().sum()"
   ]
  },
  {
   "attachments": {},
   "cell_type": "markdown",
   "metadata": {},
   "source": [
    "## Разбиение данных на выборки"
   ]
  },
  {
   "cell_type": "markdown",
   "metadata": {},
   "source": [
    "Разделим датасет на тренировочную, валидационную и тестовую выборку в пропорциях 60%, 20% и 20% соответственно."
   ]
  },
  {
   "cell_type": "code",
   "execution_count": 25,
   "metadata": {},
   "outputs": [],
   "source": [
    "#Разобьем датасет на целевой признак и признаки\n",
    "features = df.drop('is_ultra', axis=1)\n",
    "target = df['is_ultra']"
   ]
  },
  {
   "cell_type": "code",
   "execution_count": 26,
   "metadata": {},
   "outputs": [],
   "source": [
    "#Разобьем датасет на тренировочные данные и оставшуюся выборку\n",
    "features_train, features_rem, target_train, target_rem = train_test_split(features, target, \n",
    "                                                                          test_size = 0.4, random_state=12345)"
   ]
  },
  {
   "cell_type": "code",
   "execution_count": 27,
   "metadata": {},
   "outputs": [],
   "source": [
    "#Оставшуюся выборку разобьем на валидационную и тестовую\n",
    "features_val, features_test, target_val, target_test = train_test_split(features_rem, target_rem, \n",
    "                                                                          test_size = 0.5, random_state=12345)"
   ]
  },
  {
   "attachments": {},
   "cell_type": "markdown",
   "metadata": {},
   "source": [
    "## Исследование модели"
   ]
  },
  {
   "cell_type": "markdown",
   "metadata": {},
   "source": [
    "### Проверим модель с алгоритмом решающего дерева с разной глубиной."
   ]
  },
  {
   "cell_type": "code",
   "execution_count": 29,
   "metadata": {},
   "outputs": [
    {
     "name": "stdout",
     "output_type": "stream",
     "text": [
      "\n",
      "        Accuracy лучшей моделина валидационной выборке:0.7853810264385692. \n",
      "        Глубина лучшей модели 3.\n"
     ]
    }
   ],
   "source": [
    "best_model_dtc = None\n",
    "best_result = 0\n",
    "best_depth = 0\n",
    "for depth in range(1, 6):\n",
    "    model = DecisionTreeClassifier(random_state=12345, max_depth=depth) \n",
    "    model.fit(features_train, target_train) \n",
    "    predictions_val = model.predict(features_val) \n",
    "    result = accuracy_score(target_val, predictions_val) \n",
    "    if result > best_result:\n",
    "        best_model_dtc = model\n",
    "        best_depth = depth\n",
    "        best_result = result\n",
    "        \n",
    "print(f\"\"\"\n",
    "        Accuracy лучшей моделина валидационной выборке:{best_result}. \n",
    "        Глубина лучшей модели {best_depth}.\"\"\")"
   ]
  },
  {
   "cell_type": "markdown",
   "metadata": {},
   "source": [
    "### Проверим случайный лес с разным количеством деревьев и разной глубиной."
   ]
  },
  {
   "cell_type": "code",
   "execution_count": 30,
   "metadata": {},
   "outputs": [
    {
     "name": "stdout",
     "output_type": "stream",
     "text": [
      "\n",
      "        Accuracy наилучшей модели на валидационной выборке: 0.8087091757387247. \n",
      "        Количество деревьев: 40. \n",
      "        Максимальная глубина: 10.\n"
     ]
    }
   ],
   "source": [
    "best_model_rfc = None\n",
    "best_result = 0\n",
    "best_est = 0\n",
    "best_depth = 0\n",
    "for est in range(1, 51):\n",
    "    for depth in range (1, 11):\n",
    "        model = RandomForestClassifier(random_state=12345, n_estimators=est, max_depth=depth) \n",
    "        model.fit(features_train, target_train) \n",
    "        predictions_val = model.predict(features_val) \n",
    "        result = accuracy_score(target_val, predictions_val) \n",
    "        if result > best_result:\n",
    "            best_model_rfc = model\n",
    "            best_result = result\n",
    "            best_est = est\n",
    "            best_depth = depth\n",
    "\n",
    "print(f\"\"\"\n",
    "        Accuracy наилучшей модели на валидационной выборке: {best_result}. \n",
    "        Количество деревьев: {best_est}. \n",
    "        Максимальная глубина: {depth}.\"\"\")"
   ]
  },
  {
   "cell_type": "markdown",
   "metadata": {},
   "source": [
    "### Проверим логистическую регрессию."
   ]
  },
  {
   "cell_type": "code",
   "execution_count": 31,
   "metadata": {},
   "outputs": [
    {
     "name": "stdout",
     "output_type": "stream",
     "text": [
      "Accuracy модели на валидационной выборке: 0.7107309486780715.\n"
     ]
    }
   ],
   "source": [
    "model_lr = LogisticRegression(random_state=12345, solver='lbfgs', max_iter=1000)\n",
    "model_lr.fit(features_train, target_train) \n",
    "predictions_val = model_lr.predict(features_val) \n",
    "result = accuracy_score(target_val, predictions_val) \n",
    "\n",
    "print(f\"Accuracy модели на валидационной выборке: {result}.\")        \n",
    "        "
   ]
  },
  {
   "cell_type": "markdown",
   "metadata": {},
   "source": [
    "**Вывод: модель случайного леса с количеством деревьев равным 40 и максимальной глубиной показала лучший результат Accurecy.**"
   ]
  },
  {
   "cell_type": "markdown",
   "metadata": {},
   "source": [
    "## Проверьте модель на тестовой выборке"
   ]
  },
  {
   "cell_type": "code",
   "execution_count": 32,
   "metadata": {},
   "outputs": [
    {
     "name": "stdout",
     "output_type": "stream",
     "text": [
      "Accuracy модели на тестовой выборке: 0.7962674961119751.\n"
     ]
    }
   ],
   "source": [
    "# Проверим модель, которая показала лучшие результаты на валидационной выборке.\n",
    "\n",
    "predictions_test = best_model_rfc.predict(features_test) \n",
    "result = accuracy_score(target_test, predictions_test)\n",
    "\n",
    "print(f\"Accuracy модели на тестовой выборке: {result}.\")"
   ]
  },
  {
   "attachments": {},
   "cell_type": "markdown",
   "metadata": {},
   "source": [
    "## Проверим модели на адекватность"
   ]
  },
  {
   "cell_type": "markdown",
   "metadata": {},
   "source": [
    "Рассмотрим наши модели при помощи метода plot_confusion_matrix."
   ]
  },
  {
   "cell_type": "code",
   "execution_count": 33,
   "metadata": {
    "scrolled": false
   },
   "outputs": [
    {
     "data": {
      "image/png": "[encoded data removed]",
      "text/plain": [
       "<Figure size 432x288 with 2 Axes>"
      ]
     },
     "metadata": {
      "needs_background": "light"
     },
     "output_type": "display_data"
    }
   ],
   "source": [
    "plot_confusion_matrix(estimator=best_model_rfc, X=features_test, y_true=target_test,\n",
    "                      normalize='true', cmap='Blues');"
   ]
  },
  {
   "cell_type": "code",
   "execution_count": 34,
   "metadata": {},
   "outputs": [
    {
     "data": {
      "image/png": "[encoded data removed]",
      "text/plain": [
       "<Figure size 432x288 with 2 Axes>"
      ]
     },
     "metadata": {
      "needs_background": "light"
     },
     "output_type": "display_data"
    }
   ],
   "source": [
    "plot_confusion_matrix(estimator=best_model_dtc, X=features_test, y_true=target_test,\n",
    "                      normalize='true', cmap='Blues');"
   ]
  },
  {
   "cell_type": "code",
   "execution_count": 35,
   "metadata": {},
   "outputs": [
    {
     "data": {
      "image/png": "[encoded data removed]",
      "text/plain": [
       "<Figure size 432x288 with 2 Axes>"
      ]
     },
     "metadata": {
      "needs_background": "light"
     },
     "output_type": "display_data"
    }
   ],
   "source": [
    "plot_confusion_matrix(estimator=model_lr, X=features_test, y_true=target_test,\n",
    "                      normalize='true', cmap='Blues');"
   ]
  },
  {
   "cell_type": "markdown",
   "metadata": {},
   "source": [
    "Из графиков видно, что все модели, особенно логистическая регрессия, хорошо предсказывают пользователей тарифа «Смарт», что нельзая сказать о пользователях «Ультра». Посмотрим на доли пользаветелей в тренировочной выборке и во всем датасете."
   ]
  },
  {
   "cell_type": "code",
   "execution_count": 36,
   "metadata": {
    "scrolled": false
   },
   "outputs": [
    {
     "data": {
      "text/plain": [
       "0    0.692427\n",
       "1    0.307573\n",
       "Name: is_ultra, dtype: float64"
      ]
     },
     "execution_count": 36,
     "metadata": {},
     "output_type": "execute_result"
    }
   ],
   "source": [
    "target_train.value_counts(normalize=True)"
   ]
  },
  {
   "cell_type": "code",
   "execution_count": 37,
   "metadata": {},
   "outputs": [
    {
     "data": {
      "image/png": "[encoded data removed]",
      "text/plain": [
       "<Figure size 432x288 with 1 Axes>"
      ]
     },
     "metadata": {},
     "output_type": "display_data"
    }
   ],
   "source": [
    "df.groupby('is_ultra')['is_ultra'].count().plot.pie();"
   ]
  },
  {
   "cell_type": "markdown",
   "metadata": {},
   "source": [
    "Из приведенных вычислений и графика видно, что в данных присутствует дисбаланс классов, что сильно влияет на результат обучения моделей, соответственно и на предсказания."
   ]
  },
  {
   "cell_type": "code",
   "execution_count": 38,
   "metadata": {
    "scrolled": false
   },
   "outputs": [
    {
     "data": {
      "image/png": "[encoded data removed]",
      "text/plain": [
       "<Figure size 1296x720 with 4 Axes>"
      ]
     },
     "metadata": {
      "needs_background": "light"
     },
     "output_type": "display_data"
    }
   ],
   "source": [
    "fig, axis = plt.subplots(2,2, figsize=(18,10))\n",
    "\n",
    "sns.boxplot(data=df, x='is_ultra', y='calls', ax=axis[0,0])\n",
    "sns.boxplot(data=df, x='is_ultra', y='minutes', ax=axis[0,1])\n",
    "sns.boxplot(data=df, x='is_ultra', y='messages', ax=axis[1,0])\n",
    "sns.boxplot(data=df, x='is_ultra', y='mb_used', ax=axis[1,1]);"
   ]
  },
  {
   "cell_type": "markdown",
   "metadata": {},
   "source": [
    "Для улучшения результата обучения лучше избавиться от пропусков и выбросов, которые присутствуют в датасете, исходя вышепоказанных боксплотов."
   ]
  },
  {
   "cell_type": "code",
   "execution_count": 39,
   "metadata": {},
   "outputs": [
    {
     "data": {
      "image/png": "[encoded data removed]",
      "text/plain": [
       "<Figure size 432x288 with 2 Axes>"
      ]
     },
     "metadata": {
      "needs_background": "light"
     },
     "output_type": "display_data"
    }
   ],
   "source": [
    "sns.heatmap(features.corr(), annot=True);"
   ]
  },
  {
   "cell_type": "markdown",
   "metadata": {},
   "source": [
    "Проведя корреляционный анализ признаков, можно заметить сильную взаимосвязь между количеством звонков и минут разговора, что также негативно влияет на качество обучения моделей."
   ]
  },
  {
   "cell_type": "markdown",
   "metadata": {},
   "source": [
    "**Общий вывод:** для улучшения обучения необходимо избавиться от выбросов, убрать один из сильнозависящих друг от друга признаков, а также исправить дисбаланс классов. Последнюю проблему попробовал решить с помощью библиотеки imblearn, но к сожалению в ноутбуке практикума возникла ошибка при импортировании метода SMOTENC."
   ]
  },
  {
   "cell_type": "code",
   "execution_count": null,
   "metadata": {},
   "outputs": [],
   "source": []
  }
 ],
 "metadata": {
  "ExecuteTimeLog": [
   {
    "duration": 1282,
    "start_time": "2022-12-11T09:02:46.876Z"
   },
   {
    "duration": 3,
    "start_time": "2022-12-11T09:02:58.338Z"
   },
   {
    "duration": 74,
    "start_time": "2022-12-11T09:03:33.094Z"
   },
   {
    "duration": 19,
    "start_time": "2022-12-11T09:03:41.360Z"
   },
   {
    "duration": 4,
    "start_time": "2022-12-11T09:05:47.799Z"
   },
   {
    "duration": 4,
    "start_time": "2022-12-11T09:14:05.145Z"
   },
   {
    "duration": 30,
    "start_time": "2022-12-11T09:14:07.605Z"
   },
   {
    "duration": 17,
    "start_time": "2022-12-11T09:14:08.362Z"
   },
   {
    "duration": 8,
    "start_time": "2022-12-11T09:14:14.324Z"
   },
   {
    "duration": 6,
    "start_time": "2022-12-11T09:31:46.394Z"
   },
   {
    "duration": 5,
    "start_time": "2022-12-11T09:33:07.970Z"
   },
   {
    "duration": 7,
    "start_time": "2022-12-11T09:36:36.796Z"
   },
   {
    "duration": 12,
    "start_time": "2022-12-11T09:36:51.744Z"
   },
   {
    "duration": 30,
    "start_time": "2022-12-11T09:55:46.189Z"
   },
   {
    "duration": 29,
    "start_time": "2022-12-11T10:03:20.584Z"
   },
   {
    "duration": 32,
    "start_time": "2022-12-11T10:08:32.680Z"
   },
   {
    "duration": 31,
    "start_time": "2022-12-11T10:08:42.769Z"
   },
   {
    "duration": 11,
    "start_time": "2022-12-11T10:08:47.690Z"
   },
   {
    "duration": 18,
    "start_time": "2022-12-11T10:09:03.350Z"
   },
   {
    "duration": 36046,
    "start_time": "2022-12-11T10:09:38.815Z"
   },
   {
    "duration": 3052,
    "start_time": "2022-12-11T10:11:41.652Z"
   },
   {
    "duration": 29,
    "start_time": "2022-12-11T10:16:13.160Z"
   },
   {
    "duration": 3011,
    "start_time": "2022-12-11T10:16:15.114Z"
   },
   {
    "duration": 93,
    "start_time": "2022-12-11T10:16:31.560Z"
   },
   {
    "duration": 241,
    "start_time": "2022-12-11T10:16:55.444Z"
   },
   {
    "duration": 3074,
    "start_time": "2022-12-11T10:17:51.445Z"
   },
   {
    "duration": 16,
    "start_time": "2022-12-11T10:18:19.884Z"
   },
   {
    "duration": 36459,
    "start_time": "2022-12-11T10:18:31.854Z"
   },
   {
    "duration": 91,
    "start_time": "2022-12-11T10:19:30.384Z"
   },
   {
    "duration": 41,
    "start_time": "2022-12-11T10:19:34.258Z"
   },
   {
    "duration": 24241,
    "start_time": "2022-12-11T10:27:27.148Z"
   },
   {
    "duration": 1909,
    "start_time": "2022-12-11T10:28:41.144Z"
   },
   {
    "duration": 801,
    "start_time": "2022-12-11T10:29:11.853Z"
   },
   {
    "duration": 104,
    "start_time": "2022-12-11T10:31:31.351Z"
   },
   {
    "duration": 67,
    "start_time": "2022-12-11T10:31:55.805Z"
   },
   {
    "duration": 20,
    "start_time": "2022-12-11T10:32:13.558Z"
   },
   {
    "duration": 101,
    "start_time": "2022-12-11T10:34:28.178Z"
   },
   {
    "duration": 29,
    "start_time": "2022-12-11T10:34:46.790Z"
   },
   {
    "duration": 40,
    "start_time": "2022-12-11T10:36:04.152Z"
   },
   {
    "duration": 18,
    "start_time": "2022-12-11T10:36:10.657Z"
   },
   {
    "duration": 34,
    "start_time": "2022-12-11T10:36:44.015Z"
   },
   {
    "duration": 258,
    "start_time": "2022-12-11T10:37:19.412Z"
   },
   {
    "duration": 246,
    "start_time": "2022-12-11T10:37:30.110Z"
   },
   {
    "duration": 183,
    "start_time": "2022-12-11T10:37:38.807Z"
   },
   {
    "duration": 44,
    "start_time": "2022-12-11T10:38:56.116Z"
   },
   {
    "duration": 32,
    "start_time": "2022-12-11T10:47:10.110Z"
   },
   {
    "duration": 38,
    "start_time": "2022-12-11T10:47:34.744Z"
   },
   {
    "duration": 4,
    "start_time": "2022-12-11T10:53:34.144Z"
   },
   {
    "duration": 50,
    "start_time": "2022-12-11T10:53:34.151Z"
   },
   {
    "duration": 7,
    "start_time": "2022-12-11T10:53:34.204Z"
   },
   {
    "duration": 60,
    "start_time": "2022-12-11T10:53:34.213Z"
   },
   {
    "duration": 15,
    "start_time": "2022-12-11T10:53:34.276Z"
   },
   {
    "duration": 53,
    "start_time": "2022-12-11T10:53:34.294Z"
   },
   {
    "duration": 13,
    "start_time": "2022-12-11T10:53:34.350Z"
   },
   {
    "duration": 49,
    "start_time": "2022-12-11T10:53:34.366Z"
   },
   {
    "duration": 37850,
    "start_time": "2022-12-11T10:53:34.418Z"
   },
   {
    "duration": 34,
    "start_time": "2022-12-11T10:54:12.270Z"
   },
   {
    "duration": 42,
    "start_time": "2022-12-11T10:57:55.108Z"
   },
   {
    "duration": 19,
    "start_time": "2022-12-11T10:58:20.063Z"
   },
   {
    "duration": 6,
    "start_time": "2022-12-11T11:02:32.850Z"
   },
   {
    "duration": 3,
    "start_time": "2022-12-11T11:02:45.048Z"
   },
   {
    "duration": 55,
    "start_time": "2022-12-11T11:02:45.054Z"
   },
   {
    "duration": 8,
    "start_time": "2022-12-11T11:02:45.110Z"
   },
   {
    "duration": 63,
    "start_time": "2022-12-11T11:02:45.119Z"
   },
   {
    "duration": 12,
    "start_time": "2022-12-11T11:02:45.185Z"
   },
   {
    "duration": 54,
    "start_time": "2022-12-11T11:02:45.199Z"
   },
   {
    "duration": 11,
    "start_time": "2022-12-11T11:02:45.255Z"
   },
   {
    "duration": 70,
    "start_time": "2022-12-11T11:02:45.267Z"
   },
   {
    "duration": 37852,
    "start_time": "2022-12-11T11:02:45.338Z"
   },
   {
    "duration": 44,
    "start_time": "2022-12-11T11:03:23.192Z"
   },
   {
    "duration": 19,
    "start_time": "2022-12-11T11:03:23.238Z"
   },
   {
    "duration": 85126,
    "start_time": "2022-12-11T11:35:57.320Z"
   },
   {
    "duration": 137929,
    "start_time": "2022-12-11T11:38:34.535Z"
   },
   {
    "duration": 7481,
    "start_time": "2022-12-11T11:41:45.972Z"
   },
   {
    "duration": 6,
    "start_time": "2022-12-11T11:42:05.200Z"
   },
   {
    "duration": 1047,
    "start_time": "2022-12-11T11:42:15.790Z"
   },
   {
    "duration": 440,
    "start_time": "2022-12-11T11:42:24.551Z"
   },
   {
    "duration": 1024,
    "start_time": "2022-12-11T11:42:32.739Z"
   },
   {
    "duration": 655,
    "start_time": "2022-12-11T11:42:45.805Z"
   },
   {
    "duration": 1171,
    "start_time": "2022-12-11T11:42:52.967Z"
   },
   {
    "duration": 944,
    "start_time": "2022-12-11T11:43:00.586Z"
   },
   {
    "duration": 766,
    "start_time": "2022-12-11T11:43:36.971Z"
   },
   {
    "duration": 643,
    "start_time": "2022-12-11T11:43:42.764Z"
   },
   {
    "duration": 769,
    "start_time": "2022-12-11T11:43:47.120Z"
   },
   {
    "duration": 4050,
    "start_time": "2022-12-11T11:44:34.334Z"
   },
   {
    "duration": 32304,
    "start_time": "2022-12-11T11:46:56.267Z"
   },
   {
    "duration": 4,
    "start_time": "2022-12-11T12:06:32.004Z"
   },
   {
    "duration": 5,
    "start_time": "2022-12-11T12:07:08.785Z"
   },
   {
    "duration": 6,
    "start_time": "2022-12-11T12:07:19.874Z"
   },
   {
    "duration": 10,
    "start_time": "2022-12-11T14:42:40.178Z"
   },
   {
    "duration": 10,
    "start_time": "2022-12-11T14:45:45.179Z"
   },
   {
    "duration": 524,
    "start_time": "2022-12-11T14:46:11.547Z"
   },
   {
    "duration": 359,
    "start_time": "2022-12-11T14:46:17.623Z"
   },
   {
    "duration": 88,
    "start_time": "2022-12-11T14:46:35.791Z"
   },
   {
    "duration": 28,
    "start_time": "2022-12-11T14:46:37.471Z"
   },
   {
    "duration": 7,
    "start_time": "2022-12-11T14:46:37.913Z"
   },
   {
    "duration": 12,
    "start_time": "2022-12-11T14:46:39.716Z"
   },
   {
    "duration": 340,
    "start_time": "2022-12-11T14:46:44.808Z"
   },
   {
    "duration": 332,
    "start_time": "2022-12-11T14:46:52.772Z"
   },
   {
    "duration": 10,
    "start_time": "2022-12-11T14:47:44.578Z"
   },
   {
    "duration": 133,
    "start_time": "2022-12-11T14:48:14.836Z"
   },
   {
    "duration": 480,
    "start_time": "2022-12-11T14:49:41.808Z"
   },
   {
    "duration": 399,
    "start_time": "2022-12-11T14:50:28.516Z"
   },
   {
    "duration": 388,
    "start_time": "2022-12-11T14:50:55.215Z"
   },
   {
    "duration": 4,
    "start_time": "2022-12-11T14:53:53.081Z"
   },
   {
    "duration": 447,
    "start_time": "2022-12-11T14:56:02.035Z"
   },
   {
    "duration": 418,
    "start_time": "2022-12-11T14:56:24.162Z"
   },
   {
    "duration": 380,
    "start_time": "2022-12-11T14:56:41.392Z"
   },
   {
    "duration": 500,
    "start_time": "2022-12-11T14:58:07.946Z"
   },
   {
    "duration": 347,
    "start_time": "2022-12-11T15:00:10.017Z"
   },
   {
    "duration": 367,
    "start_time": "2022-12-11T15:00:50.790Z"
   },
   {
    "duration": 76,
    "start_time": "2022-12-11T15:04:15.902Z"
   },
   {
    "duration": 276,
    "start_time": "2022-12-11T15:04:19.936Z"
   },
   {
    "duration": 282,
    "start_time": "2022-12-11T15:04:46.581Z"
   },
   {
    "duration": 454,
    "start_time": "2022-12-11T15:05:01.557Z"
   },
   {
    "duration": 349,
    "start_time": "2022-12-11T16:07:59.749Z"
   },
   {
    "duration": 10,
    "start_time": "2022-12-11T16:12:27.919Z"
   },
   {
    "duration": 3,
    "start_time": "2022-12-11T16:12:51.498Z"
   },
   {
    "duration": 164,
    "start_time": "2022-12-11T16:12:56.850Z"
   },
   {
    "duration": 154,
    "start_time": "2022-12-11T16:13:10.246Z"
   },
   {
    "duration": 4,
    "start_time": "2022-12-11T16:14:04.880Z"
   },
   {
    "duration": 4,
    "start_time": "2022-12-11T16:16:11.255Z"
   },
   {
    "duration": 10,
    "start_time": "2022-12-11T16:16:28.674Z"
   },
   {
    "duration": 139,
    "start_time": "2022-12-11T16:16:45.527Z"
   },
   {
    "duration": 135,
    "start_time": "2022-12-11T16:16:53.735Z"
   },
   {
    "duration": 5,
    "start_time": "2022-12-11T16:19:33.176Z"
   },
   {
    "duration": 8,
    "start_time": "2022-12-11T16:20:12.281Z"
   },
   {
    "duration": 12,
    "start_time": "2022-12-11T16:23:20.101Z"
   },
   {
    "duration": 12,
    "start_time": "2022-12-11T16:24:17.819Z"
   },
   {
    "duration": 6927,
    "start_time": "2022-12-11T16:26:36.154Z"
   },
   {
    "duration": 22,
    "start_time": "2022-12-11T16:26:56.795Z"
   },
   {
    "duration": 1214,
    "start_time": "2022-12-11T16:27:26.372Z"
   },
   {
    "duration": 2055,
    "start_time": "2022-12-11T16:27:36.188Z"
   },
   {
    "duration": 18,
    "start_time": "2022-12-11T16:27:43.400Z"
   },
   {
    "duration": 7,
    "start_time": "2022-12-11T16:35:24.739Z"
   },
   {
    "duration": 6,
    "start_time": "2022-12-11T16:36:52.470Z"
   },
   {
    "duration": 4,
    "start_time": "2022-12-11T16:49:37.004Z"
   },
   {
    "duration": 5,
    "start_time": "2022-12-11T16:49:40.963Z"
   },
   {
    "duration": 13,
    "start_time": "2022-12-11T16:58:20.588Z"
   },
   {
    "duration": 17,
    "start_time": "2022-12-11T17:00:28.948Z"
   },
   {
    "duration": 40494,
    "start_time": "2022-12-11T17:20:19.173Z"
   },
   {
    "duration": 28,
    "start_time": "2022-12-11T17:23:28.592Z"
   },
   {
    "duration": 2645,
    "start_time": "2022-12-11T17:25:47.787Z"
   },
   {
    "duration": 29,
    "start_time": "2022-12-11T17:26:19.136Z"
   },
   {
    "duration": 162,
    "start_time": "2022-12-11T17:27:33.671Z"
   },
   {
    "duration": 137,
    "start_time": "2022-12-11T17:27:56.499Z"
   },
   {
    "duration": 142,
    "start_time": "2022-12-11T18:27:15.472Z"
   },
   {
    "duration": 6,
    "start_time": "2022-12-11T18:27:51.085Z"
   },
   {
    "duration": 136,
    "start_time": "2022-12-11T18:28:15.505Z"
   },
   {
    "duration": 115,
    "start_time": "2022-12-11T18:28:33.337Z"
   },
   {
    "duration": 14928,
    "start_time": "2022-12-11T18:29:48.880Z"
   },
   {
    "duration": 15431,
    "start_time": "2022-12-11T18:30:24.218Z"
   },
   {
    "duration": 15463,
    "start_time": "2022-12-11T18:31:39.128Z"
   },
   {
    "duration": 69,
    "start_time": "2022-12-11T18:32:08.681Z"
   },
   {
    "duration": 4930,
    "start_time": "2022-12-11T18:40:01.639Z"
   },
   {
    "duration": 412,
    "start_time": "2022-12-11T18:40:25.503Z"
   },
   {
    "duration": 450,
    "start_time": "2022-12-11T18:41:02.006Z"
   },
   {
    "duration": 12,
    "start_time": "2022-12-11T18:43:45.321Z"
   },
   {
    "duration": 10,
    "start_time": "2022-12-11T18:44:01.157Z"
   },
   {
    "duration": 387,
    "start_time": "2022-12-11T18:49:20.992Z"
   },
   {
    "duration": 304,
    "start_time": "2022-12-11T18:49:27.650Z"
   },
   {
    "duration": 1239,
    "start_time": "2022-12-11T19:01:43.841Z"
   },
   {
    "duration": 29,
    "start_time": "2022-12-11T19:01:45.082Z"
   },
   {
    "duration": 9,
    "start_time": "2022-12-11T19:01:45.113Z"
   },
   {
    "duration": 6,
    "start_time": "2022-12-11T19:01:45.124Z"
   },
   {
    "duration": 8,
    "start_time": "2022-12-11T19:01:45.132Z"
   },
   {
    "duration": 14,
    "start_time": "2022-12-11T19:01:45.142Z"
   },
   {
    "duration": 34,
    "start_time": "2022-12-11T19:01:45.157Z"
   },
   {
    "duration": 31673,
    "start_time": "2022-12-11T19:01:45.193Z"
   },
   {
    "duration": 25,
    "start_time": "2022-12-11T19:02:16.868Z"
   },
   {
    "duration": 28,
    "start_time": "2022-12-11T19:02:16.895Z"
   },
   {
    "duration": 169,
    "start_time": "2022-12-11T19:02:16.925Z"
   },
   {
    "duration": 169,
    "start_time": "2022-12-11T19:02:17.095Z"
   },
   {
    "duration": 147,
    "start_time": "2022-12-11T19:02:17.265Z"
   },
   {
    "duration": 13,
    "start_time": "2022-12-11T19:02:17.414Z"
   },
   {
    "duration": 175,
    "start_time": "2022-12-11T19:02:17.429Z"
   },
   {
    "duration": 465,
    "start_time": "2022-12-11T19:02:17.606Z"
   },
   {
    "duration": 346,
    "start_time": "2022-12-11T19:02:18.073Z"
   },
   {
    "duration": 68,
    "start_time": "2022-12-12T07:50:37.916Z"
   },
   {
    "duration": 72,
    "start_time": "2022-12-12T07:51:41.118Z"
   },
   {
    "duration": 76,
    "start_time": "2022-12-12T07:53:53.749Z"
   },
   {
    "duration": 77,
    "start_time": "2022-12-12T07:54:29.260Z"
   },
   {
    "duration": 4,
    "start_time": "2022-12-12T07:54:48.539Z"
   },
   {
    "duration": 41,
    "start_time": "2022-12-12T07:54:48.546Z"
   },
   {
    "duration": 7,
    "start_time": "2022-12-12T07:54:48.590Z"
   },
   {
    "duration": 20,
    "start_time": "2022-12-12T07:54:48.599Z"
   },
   {
    "duration": 29,
    "start_time": "2022-12-12T07:54:48.623Z"
   },
   {
    "duration": 15,
    "start_time": "2022-12-12T07:54:48.654Z"
   },
   {
    "duration": 2923,
    "start_time": "2022-12-12T07:54:48.671Z"
   },
   {
    "duration": 56,
    "start_time": "2022-12-12T07:54:51.597Z"
   },
   {
    "duration": 33474,
    "start_time": "2022-12-12T07:54:51.657Z"
   },
   {
    "duration": 33,
    "start_time": "2022-12-12T07:55:25.133Z"
   },
   {
    "duration": 15,
    "start_time": "2022-12-12T07:55:25.168Z"
   },
   {
    "duration": 195,
    "start_time": "2022-12-12T07:55:25.185Z"
   },
   {
    "duration": 174,
    "start_time": "2022-12-12T07:55:25.384Z"
   },
   {
    "duration": 154,
    "start_time": "2022-12-12T07:55:25.560Z"
   },
   {
    "duration": 10,
    "start_time": "2022-12-12T07:55:25.716Z"
   },
   {
    "duration": 194,
    "start_time": "2022-12-12T07:55:25.728Z"
   },
   {
    "duration": 450,
    "start_time": "2022-12-12T07:55:25.924Z"
   },
   {
    "duration": 392,
    "start_time": "2022-12-12T07:55:26.377Z"
   }
  ],
  "kernelspec": {
   "display_name": "Python 3 (ipykernel)",
   "language": "python",
   "name": "python3"
  },
  "language_info": {
   "codemirror_mode": {
    "name": "ipython",
    "version": 3
   },
   "file_extension": ".py",
   "mimetype": "text/x-python",
   "name": "python",
   "nbconvert_exporter": "python",
   "pygments_lexer": "ipython3",
   "version": "3.9.5"
  },
  "toc": {
   "base_numbering": 1,
   "nav_menu": {
    "height": "195px",
    "width": "594px"
   },
   "number_sections": true,
   "sideBar": true,
   "skip_h1_title": true,
   "title_cell": "Table of Contents",
   "title_sidebar": "Contents",
   "toc_cell": false,
   "toc_position": {},
   "toc_section_display": true,
   "toc_window_display": false
  }
 },
 "nbformat": 4,
 "nbformat_minor": 2
}
